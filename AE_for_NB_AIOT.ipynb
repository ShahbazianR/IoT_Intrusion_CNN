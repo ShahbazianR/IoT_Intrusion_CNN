{
  "cells": [
    {
      "cell_type": "code",
      "execution_count": 1,
      "metadata": {
        "colab": {
          "base_uri": "https://localhost:8080/",
          "height": 90
        },
        "id": "yNjGn-IskiG8",
        "outputId": "7ca1b89b-2368-4169-935a-5d70ee768d74"
      },
      "outputs": [
        {
          "output_type": "display_data",
          "data": {
            "text/plain": [
              "<IPython.core.display.HTML object>"
            ],
            "text/html": [
              "\n",
              "     <input type=\"file\" id=\"files-0bb3cd82-6f62-443f-bcef-85ff6494f7f3\" name=\"files[]\" multiple disabled\n",
              "        style=\"border:none\" />\n",
              "     <output id=\"result-0bb3cd82-6f62-443f-bcef-85ff6494f7f3\">\n",
              "      Upload widget is only available when the cell has been executed in the\n",
              "      current browser session. Please rerun this cell to enable.\n",
              "      </output>\n",
              "      <script>// Copyright 2017 Google LLC\n",
              "//\n",
              "// Licensed under the Apache License, Version 2.0 (the \"License\");\n",
              "// you may not use this file except in compliance with the License.\n",
              "// You may obtain a copy of the License at\n",
              "//\n",
              "//      http://www.apache.org/licenses/LICENSE-2.0\n",
              "//\n",
              "// Unless required by applicable law or agreed to in writing, software\n",
              "// distributed under the License is distributed on an \"AS IS\" BASIS,\n",
              "// WITHOUT WARRANTIES OR CONDITIONS OF ANY KIND, either express or implied.\n",
              "// See the License for the specific language governing permissions and\n",
              "// limitations under the License.\n",
              "\n",
              "/**\n",
              " * @fileoverview Helpers for google.colab Python module.\n",
              " */\n",
              "(function(scope) {\n",
              "function span(text, styleAttributes = {}) {\n",
              "  const element = document.createElement('span');\n",
              "  element.textContent = text;\n",
              "  for (const key of Object.keys(styleAttributes)) {\n",
              "    element.style[key] = styleAttributes[key];\n",
              "  }\n",
              "  return element;\n",
              "}\n",
              "\n",
              "// Max number of bytes which will be uploaded at a time.\n",
              "const MAX_PAYLOAD_SIZE = 100 * 1024;\n",
              "\n",
              "function _uploadFiles(inputId, outputId) {\n",
              "  const steps = uploadFilesStep(inputId, outputId);\n",
              "  const outputElement = document.getElementById(outputId);\n",
              "  // Cache steps on the outputElement to make it available for the next call\n",
              "  // to uploadFilesContinue from Python.\n",
              "  outputElement.steps = steps;\n",
              "\n",
              "  return _uploadFilesContinue(outputId);\n",
              "}\n",
              "\n",
              "// This is roughly an async generator (not supported in the browser yet),\n",
              "// where there are multiple asynchronous steps and the Python side is going\n",
              "// to poll for completion of each step.\n",
              "// This uses a Promise to block the python side on completion of each step,\n",
              "// then passes the result of the previous step as the input to the next step.\n",
              "function _uploadFilesContinue(outputId) {\n",
              "  const outputElement = document.getElementById(outputId);\n",
              "  const steps = outputElement.steps;\n",
              "\n",
              "  const next = steps.next(outputElement.lastPromiseValue);\n",
              "  return Promise.resolve(next.value.promise).then((value) => {\n",
              "    // Cache the last promise value to make it available to the next\n",
              "    // step of the generator.\n",
              "    outputElement.lastPromiseValue = value;\n",
              "    return next.value.response;\n",
              "  });\n",
              "}\n",
              "\n",
              "/**\n",
              " * Generator function which is called between each async step of the upload\n",
              " * process.\n",
              " * @param {string} inputId Element ID of the input file picker element.\n",
              " * @param {string} outputId Element ID of the output display.\n",
              " * @return {!Iterable<!Object>} Iterable of next steps.\n",
              " */\n",
              "function* uploadFilesStep(inputId, outputId) {\n",
              "  const inputElement = document.getElementById(inputId);\n",
              "  inputElement.disabled = false;\n",
              "\n",
              "  const outputElement = document.getElementById(outputId);\n",
              "  outputElement.innerHTML = '';\n",
              "\n",
              "  const pickedPromise = new Promise((resolve) => {\n",
              "    inputElement.addEventListener('change', (e) => {\n",
              "      resolve(e.target.files);\n",
              "    });\n",
              "  });\n",
              "\n",
              "  const cancel = document.createElement('button');\n",
              "  inputElement.parentElement.appendChild(cancel);\n",
              "  cancel.textContent = 'Cancel upload';\n",
              "  const cancelPromise = new Promise((resolve) => {\n",
              "    cancel.onclick = () => {\n",
              "      resolve(null);\n",
              "    };\n",
              "  });\n",
              "\n",
              "  // Wait for the user to pick the files.\n",
              "  const files = yield {\n",
              "    promise: Promise.race([pickedPromise, cancelPromise]),\n",
              "    response: {\n",
              "      action: 'starting',\n",
              "    }\n",
              "  };\n",
              "\n",
              "  cancel.remove();\n",
              "\n",
              "  // Disable the input element since further picks are not allowed.\n",
              "  inputElement.disabled = true;\n",
              "\n",
              "  if (!files) {\n",
              "    return {\n",
              "      response: {\n",
              "        action: 'complete',\n",
              "      }\n",
              "    };\n",
              "  }\n",
              "\n",
              "  for (const file of files) {\n",
              "    const li = document.createElement('li');\n",
              "    li.append(span(file.name, {fontWeight: 'bold'}));\n",
              "    li.append(span(\n",
              "        `(${file.type || 'n/a'}) - ${file.size} bytes, ` +\n",
              "        `last modified: ${\n",
              "            file.lastModifiedDate ? file.lastModifiedDate.toLocaleDateString() :\n",
              "                                    'n/a'} - `));\n",
              "    const percent = span('0% done');\n",
              "    li.appendChild(percent);\n",
              "\n",
              "    outputElement.appendChild(li);\n",
              "\n",
              "    const fileDataPromise = new Promise((resolve) => {\n",
              "      const reader = new FileReader();\n",
              "      reader.onload = (e) => {\n",
              "        resolve(e.target.result);\n",
              "      };\n",
              "      reader.readAsArrayBuffer(file);\n",
              "    });\n",
              "    // Wait for the data to be ready.\n",
              "    let fileData = yield {\n",
              "      promise: fileDataPromise,\n",
              "      response: {\n",
              "        action: 'continue',\n",
              "      }\n",
              "    };\n",
              "\n",
              "    // Use a chunked sending to avoid message size limits. See b/62115660.\n",
              "    let position = 0;\n",
              "    do {\n",
              "      const length = Math.min(fileData.byteLength - position, MAX_PAYLOAD_SIZE);\n",
              "      const chunk = new Uint8Array(fileData, position, length);\n",
              "      position += length;\n",
              "\n",
              "      const base64 = btoa(String.fromCharCode.apply(null, chunk));\n",
              "      yield {\n",
              "        response: {\n",
              "          action: 'append',\n",
              "          file: file.name,\n",
              "          data: base64,\n",
              "        },\n",
              "      };\n",
              "\n",
              "      let percentDone = fileData.byteLength === 0 ?\n",
              "          100 :\n",
              "          Math.round((position / fileData.byteLength) * 100);\n",
              "      percent.textContent = `${percentDone}% done`;\n",
              "\n",
              "    } while (position < fileData.byteLength);\n",
              "  }\n",
              "\n",
              "  // All done.\n",
              "  yield {\n",
              "    response: {\n",
              "      action: 'complete',\n",
              "    }\n",
              "  };\n",
              "}\n",
              "\n",
              "scope.google = scope.google || {};\n",
              "scope.google.colab = scope.google.colab || {};\n",
              "scope.google.colab._files = {\n",
              "  _uploadFiles,\n",
              "  _uploadFilesContinue,\n",
              "};\n",
              "})(self);\n",
              "</script> "
            ]
          },
          "metadata": {}
        },
        {
          "output_type": "stream",
          "name": "stdout",
          "text": [
            "Saving kaggle.json to kaggle.json\n"
          ]
        },
        {
          "output_type": "execute_result",
          "data": {
            "text/plain": [
              "{'kaggle.json': b'{\"username\":\"negarmansouri96\",\"key\":\"dff6cfe0d2006e749b7c718a13c89eef\"}'}"
            ]
          },
          "metadata": {},
          "execution_count": 1
        }
      ],
      "source": [
        "! pip install -q kaggle\n",
        "from google.colab import files\n",
        "files.upload()\n"
      ]
    },
    {
      "cell_type": "code",
      "execution_count": 2,
      "metadata": {
        "id": "UqZVdnzRksso"
      },
      "outputs": [],
      "source": [
        "! mkdir ~/.kaggle\n",
        "! cp kaggle.json ~/.kaggle/"
      ]
    },
    {
      "cell_type": "code",
      "execution_count": 3,
      "metadata": {
        "id": "v3SztNK1ktbY"
      },
      "outputs": [],
      "source": [
        "! chmod 600 ~/.kaggle/kaggle.json"
      ]
    },
    {
      "cell_type": "code",
      "execution_count": 4,
      "metadata": {
        "colab": {
          "base_uri": "https://localhost:8080/"
        },
        "id": "fNVO9CUKkt7E",
        "outputId": "1705db02-9f25-46a9-f948-ae261d199f1a"
      },
      "outputs": [
        {
          "output_type": "stream",
          "name": "stdout",
          "text": [
            "Dataset URL: https://www.kaggle.com/datasets/mkashifn/nbaiot-dataset\n",
            "License(s): unknown\n",
            "Downloading nbaiot-dataset.zip to /content\n",
            " 99% 1.74G/1.75G [00:21<00:00, 95.7MB/s]\n",
            "100% 1.75G/1.75G [00:21<00:00, 85.7MB/s]\n"
          ]
        }
      ],
      "source": [
        "! kaggle datasets download -d mkashifn/nbaiot-dataset"
      ]
    },
    {
      "cell_type": "code",
      "source": [
        "import zipfile\n",
        "import os\n",
        "zip_file_path = \"/content/nbaiot-dataset.zip\"\n",
        "\n",
        "with zipfile.ZipFile(zip_file_path, 'r') as zip_ref:\n",
        "    zip_ref.extractall('extracted_files')\n",
        "\n",
        "os.remove(\"/content/extracted_files/README.md\")\n",
        "os.remove(\"/content/extracted_files/data_summary.csv\")\n",
        "os.remove(\"/content/extracted_files/device_info.csv\")\n",
        "os.remove(\"/content/extracted_files/features.csv\")\n"
      ],
      "metadata": {
        "id": "i4L_H5K6qh6K"
      },
      "execution_count": 5,
      "outputs": []
    },
    {
      "cell_type": "code",
      "execution_count": 6,
      "metadata": {
        "id": "DMFg4JaOkyUm",
        "colab": {
          "base_uri": "https://localhost:8080/"
        },
        "outputId": "5618198f-5436-4676-b53d-fdfd10777361"
      },
      "outputs": [
        {
          "output_type": "stream",
          "name": "stdout",
          "text": [
            "   MI_dir_L5_weight  MI_dir_L5_mean  MI_dir_L5_variance  MI_dir_L3_weight  \\\n",
            "0               1.0            60.0                 0.0               1.0   \n",
            "1               1.0            60.0                 0.0               1.0   \n",
            "2               1.0            60.0                 0.0               1.0   \n",
            "3               1.0            60.0                 0.0               1.0   \n",
            "4               1.0            60.0                 0.0               1.0   \n",
            "\n",
            "   MI_dir_L3_mean  MI_dir_L3_variance  MI_dir_L1_weight  MI_dir_L1_mean  \\\n",
            "0            60.0                 0.0               1.0            60.0   \n",
            "1            60.0                 0.0               1.0            60.0   \n",
            "2            60.0                 0.0               1.0            60.0   \n",
            "3            60.0                 0.0               1.0            60.0   \n",
            "4            60.0                 0.0               1.0            60.0   \n",
            "\n",
            "   MI_dir_L1_variance  MI_dir_L0.1_weight  ...  HpHp_L0.1_covariance  \\\n",
            "0                 0.0                 1.0  ...                   0.0   \n",
            "1                 0.0                 1.0  ...                   0.0   \n",
            "2                 0.0                 1.0  ...                   0.0   \n",
            "3                 0.0                 1.0  ...                   0.0   \n",
            "4                 0.0                 1.0  ...                   0.0   \n",
            "\n",
            "   HpHp_L0.1_pcc  HpHp_L0.01_weight  HpHp_L0.01_mean  HpHp_L0.01_std  \\\n",
            "0            0.0                1.0             60.0             0.0   \n",
            "1            0.0                1.0             60.0             0.0   \n",
            "2            0.0                1.0             60.0             0.0   \n",
            "3            0.0                1.0             60.0             0.0   \n",
            "4            0.0                1.0             60.0             0.0   \n",
            "\n",
            "   HpHp_L0.01_magnitude  HpHp_L0.01_radius  HpHp_L0.01_covariance  \\\n",
            "0                  60.0                0.0                    0.0   \n",
            "1                  60.0                0.0                    0.0   \n",
            "2                  60.0                0.0                    0.0   \n",
            "3                  60.0                0.0                    0.0   \n",
            "4                  60.0                0.0                    0.0   \n",
            "\n",
            "   HpHp_L0.01_pcc       label  \n",
            "0             0.0  gafgyt.tcp  \n",
            "1             0.0  gafgyt.tcp  \n",
            "2             0.0  gafgyt.tcp  \n",
            "3             0.0  gafgyt.tcp  \n",
            "4             0.0  gafgyt.tcp  \n",
            "\n",
            "[5 rows x 116 columns]\n",
            "\n",
            "Category Counts:\n",
            "label\n",
            "gafgyt.tcp        117000\n",
            "gafgyt.combo      117000\n",
            "gafgyt.junk       117000\n",
            "gafgyt.scan       117000\n",
            "benign            117000\n",
            "gafgyt.udp        117000\n",
            "mirai.syn          91000\n",
            "mirai.udpplain     91000\n",
            "mirai.udp          91000\n",
            "mirai.scan         91000\n",
            "mirai.ack          91000\n",
            "Name: count, dtype: int64\n"
          ]
        }
      ],
      "source": [
        "import re\n",
        "import pandas as pd\n",
        "\n",
        "csv_files = [f for f in os.listdir('extracted_files') if f.endswith('.csv')]\n",
        "\n",
        "n_bootstrap_samples = 13000\n",
        "\n",
        "bootstrapped_dfs = []\n",
        "\n",
        "def clean_label(file_name):\n",
        "    return re.sub(r'^\\d+\\.', '', file_name)\n",
        "\n",
        "for file in csv_files:\n",
        "    df = pd.read_csv(os.path.join('extracted_files', file))\n",
        "\n",
        "    bootstrap_sample = df.sample(n=n_bootstrap_samples, replace=False, random_state=42)\n",
        "\n",
        "    label = clean_label(file.replace('.csv', ''))\n",
        "\n",
        "    bootstrap_sample['label'] = label\n",
        "\n",
        "\n",
        "    bootstrapped_dfs.append(bootstrap_sample)\n",
        "\n",
        "final_df = pd.concat(bootstrapped_dfs, ignore_index=True)\n",
        "\n",
        "print(final_df.head())\n",
        "\n",
        "category_counts = final_df['label'].value_counts()\n",
        "print(\"\\nCategory Counts:\")\n",
        "print(category_counts)\n",
        "\n"
      ]
    },
    {
      "cell_type": "code",
      "execution_count": 7,
      "metadata": {
        "colab": {
          "base_uri": "https://localhost:8080/"
        },
        "id": "FhptKUpXk0nk",
        "outputId": "a52a5eaa-d050-4a44-b422-e35539b336d8"
      },
      "outputs": [
        {
          "output_type": "stream",
          "name": "stdout",
          "text": [
            "       MI_dir_L5_weight  MI_dir_L5_mean  MI_dir_L5_variance  MI_dir_L3_weight  \\\n",
            "count      1.157000e+06    1.157000e+06        1.157000e+06      1.157000e+06   \n",
            "mean       8.267593e+01    1.496655e+02        1.109874e+04      1.303857e+02   \n",
            "std        6.978007e+01    1.466430e+02        2.141066e+04      1.117528e+02   \n",
            "min        1.000000e+00    6.000000e+01        0.000000e+00      1.000000e+00   \n",
            "25%        1.032211e+00    6.000001e+01        2.728484e-12      1.142845e+00   \n",
            "50%        8.403074e+01    7.402638e+01        1.966007e+00      1.241315e+02   \n",
            "75%        1.479464e+02    1.900609e+02        5.430793e+03      2.389061e+02   \n",
            "max        4.380028e+02    1.452096e+03        4.712302e+05      5.586770e+02   \n",
            "\n",
            "       MI_dir_L3_mean  MI_dir_L3_variance  MI_dir_L1_weight  MI_dir_L1_mean  \\\n",
            "count    1.157000e+06        1.157000e+06      1.157000e+06    1.157000e+06   \n",
            "mean     1.497768e+02        1.234093e+04      3.662275e+02    1.501464e+02   \n",
            "std      1.423662e+02        2.255570e+04      3.224224e+02    1.384482e+02   \n",
            "min      6.000000e+01        0.000000e+00      1.000000e+00    6.000000e+01   \n",
            "25%      6.000267e+01        4.556000e-09      1.790664e+00    6.004245e+01   \n",
            "50%      7.404335e+01        3.201398e+00      2.992624e+02    7.406808e+01   \n",
            "75%      2.205717e+02        1.026871e+04      6.668174e+02    2.722366e+02   \n",
            "max      1.449798e+03        4.706753e+05      1.202043e+03    1.433578e+03   \n",
            "\n",
            "       MI_dir_L1_variance  MI_dir_L0.1_weight  ...  HpHp_L0.1_radius  \\\n",
            "count        1.157000e+06        1.157000e+06  ...      1.157000e+06   \n",
            "mean         1.349213e+04        3.233234e+03  ...      1.088917e+03   \n",
            "std          2.353108e+04        2.880334e+03  ...      1.405350e+04   \n",
            "min          0.000000e+00        1.000000e+00  ...      0.000000e+00   \n",
            "25%          4.794851e-02        3.701013e+00  ...      0.000000e+00   \n",
            "50%          2.745781e+01        2.898233e+03  ...      0.000000e+00   \n",
            "75%          1.582789e+04        6.318670e+03  ...      0.000000e+00   \n",
            "max          4.669966e+05        8.946924e+03  ...      4.801656e+05   \n",
            "\n",
            "       HpHp_L0.1_covariance  HpHp_L0.1_pcc  HpHp_L0.01_weight  \\\n",
            "count          1.157000e+06   1.157000e+06       1.157000e+06   \n",
            "mean           6.794035e+01   9.878128e-04       7.731838e+02   \n",
            "std            1.995841e+03   5.733497e-02       3.867848e+03   \n",
            "min           -1.041476e+05  -1.532105e+00       1.000000e+00   \n",
            "25%            0.000000e+00   0.000000e+00       1.000000e+00   \n",
            "50%            0.000000e+00   0.000000e+00       1.000000e+00   \n",
            "75%            0.000000e+00   0.000000e+00       1.679673e+00   \n",
            "max            1.238270e+05   2.760701e+00       3.000633e+04   \n",
            "\n",
            "       HpHp_L0.01_mean  HpHp_L0.01_std  HpHp_L0.01_magnitude  \\\n",
            "count     1.157000e+06    1.157000e+06          1.157000e+06   \n",
            "mean      1.498757e+02    3.288939e+00          1.573903e+02   \n",
            "std       1.792030e+02    2.421478e+01          1.842684e+02   \n",
            "min       6.000000e+01    0.000000e+00          6.000000e+01   \n",
            "25%       6.000000e+01    0.000000e+00          6.000000e+01   \n",
            "50%       7.400000e+01    0.000000e+00          7.400000e+01   \n",
            "75%       7.400000e+01    0.000000e+00          9.526804e+01   \n",
            "max       1.470000e+03    6.766253e+02          1.470000e+03   \n",
            "\n",
            "       HpHp_L0.01_radius  HpHp_L0.01_covariance  HpHp_L0.01_pcc  \n",
            "count       1.157000e+06           1.157000e+06    1.157000e+06  \n",
            "mean        1.376937e+03           7.609043e+01    7.048572e-04  \n",
            "std         1.591090e+04           2.730096e+03    6.594619e-02  \n",
            "min         0.000000e+00          -1.776318e+05   -1.743087e+00  \n",
            "25%         0.000000e+00           0.000000e+00    0.000000e+00  \n",
            "50%         0.000000e+00           0.000000e+00    0.000000e+00  \n",
            "75%         0.000000e+00           0.000000e+00    0.000000e+00  \n",
            "max         4.802370e+05           1.438641e+05    2.811226e+00  \n",
            "\n",
            "[8 rows x 115 columns]\n"
          ]
        }
      ],
      "source": [
        "print(final_df.describe())"
      ]
    },
    {
      "cell_type": "code",
      "execution_count": 8,
      "metadata": {
        "colab": {
          "base_uri": "https://localhost:8080/"
        },
        "id": "r8fO6COvk1sF",
        "outputId": "912fde4f-9a13-4d0a-e79c-76be7d18b8f9"
      },
      "outputs": [
        {
          "output_type": "stream",
          "name": "stdout",
          "text": [
            "Unique values in the 'label' column: ['gafgyt.tcp' 'gafgyt.combo' 'gafgyt.junk' 'mirai.syn' 'gafgyt.scan'\n",
            " 'mirai.udpplain' 'benign' 'gafgyt.udp' 'mirai.udp' 'mirai.scan'\n",
            " 'mirai.ack']\n"
          ]
        }
      ],
      "source": [
        "print(\"Unique values in the 'label' column:\", final_df['label'].unique())\n"
      ]
    },
    {
      "cell_type": "code",
      "execution_count": 9,
      "metadata": {
        "colab": {
          "base_uri": "https://localhost:8080/"
        },
        "id": "Jkf097hlk4Cj",
        "outputId": "d9b69240-1f71-4f97-fb7e-bfdb34f6ce6c"
      },
      "outputs": [
        {
          "output_type": "stream",
          "name": "stderr",
          "text": [
            "Building Trees: 100%|██████████| 100/100 [08:37<00:00,  5.18s/it]\n"
          ]
        },
        {
          "output_type": "stream",
          "name": "stdout",
          "text": [
            "Top 27 selected features:\n",
            "['H_L0.01_mean' 'MI_dir_L0.1_weight' 'MI_dir_L0.01_mean' 'H_L0.1_weight'\n",
            " 'H_L0.01_variance' 'H_L0.01_weight' 'MI_dir_L0.01_variance' 'H_L1_mean'\n",
            " 'HH_L0.1_magnitude' 'MI_dir_L0.1_variance' 'MI_dir_L0.1_mean'\n",
            " 'MI_dir_L0.01_weight' 'H_L0.1_mean' 'H_L0.1_variance' 'H_L1_weight'\n",
            " 'HH_L0.01_magnitude' 'HH_jit_L0.01_mean' 'MI_dir_L1_mean'\n",
            " 'HH_jit_L3_mean' 'HH_jit_L0.1_mean' 'MI_dir_L1_weight' 'HH_jit_L1_mean'\n",
            " 'MI_dir_L3_weight' 'HH_L3_weight' 'H_L3_weight' 'HH_jit_L0.01_weight'\n",
            " 'HH_jit_L5_mean']\n",
            "Label Mapping: {'benign': 0, 'gafgyt.combo': 1, 'gafgyt.junk': 2, 'gafgyt.scan': 3, 'gafgyt.tcp': 4, 'gafgyt.udp': 5, 'mirai.ack': 6, 'mirai.scan': 7, 'mirai.syn': 8, 'mirai.udp': 9, 'mirai.udpplain': 10}\n",
            "   H_L0.01_mean  MI_dir_L0.1_weight  MI_dir_L0.01_mean  H_L0.1_weight  \\\n",
            "0          60.0                 1.0               60.0            1.0   \n",
            "1          60.0                 1.0               60.0            1.0   \n",
            "2          60.0                 1.0               60.0            1.0   \n",
            "3          60.0                 1.0               60.0            1.0   \n",
            "4          60.0                 1.0               60.0            1.0   \n",
            "\n",
            "   H_L0.01_variance  H_L0.01_weight  MI_dir_L0.01_variance  H_L1_mean  \\\n",
            "0               0.0             1.0                    0.0       60.0   \n",
            "1               0.0             1.0                    0.0       60.0   \n",
            "2               0.0             1.0                    0.0       60.0   \n",
            "3               0.0             1.0                    0.0       60.0   \n",
            "4               0.0             1.0                    0.0       60.0   \n",
            "\n",
            "   HH_L0.1_magnitude  MI_dir_L0.1_variance  ...  HH_jit_L3_mean  \\\n",
            "0               60.0                   0.0  ...    1.505914e+09   \n",
            "1               60.0                   0.0  ...    1.505914e+09   \n",
            "2               60.0                   0.0  ...    1.505914e+09   \n",
            "3               60.0                   0.0  ...    1.505914e+09   \n",
            "4               60.0                   0.0  ...    1.505914e+09   \n",
            "\n",
            "   HH_jit_L0.1_mean  MI_dir_L1_weight  HH_jit_L1_mean  MI_dir_L3_weight  \\\n",
            "0      1.505914e+09               1.0    1.505914e+09               1.0   \n",
            "1      1.505914e+09               1.0    1.505914e+09               1.0   \n",
            "2      1.505914e+09               1.0    1.505914e+09               1.0   \n",
            "3      1.505914e+09               1.0    1.505914e+09               1.0   \n",
            "4      1.505914e+09               1.0    1.505914e+09               1.0   \n",
            "\n",
            "   HH_L3_weight  H_L3_weight  HH_jit_L0.01_weight  HH_jit_L5_mean  \\\n",
            "0           1.0          1.0                  1.0    1.505914e+09   \n",
            "1           1.0          1.0                  1.0    1.505914e+09   \n",
            "2           1.0          1.0                  1.0    1.505914e+09   \n",
            "3           1.0          1.0                  1.0    1.505914e+09   \n",
            "4           1.0          1.0                  1.0    1.505914e+09   \n",
            "\n",
            "   encoded_label  \n",
            "0              4  \n",
            "1              4  \n",
            "2              4  \n",
            "3              4  \n",
            "4              4  \n",
            "\n",
            "[5 rows x 28 columns]\n"
          ]
        }
      ],
      "source": [
        "from sklearn.preprocessing import LabelEncoder, StandardScaler\n",
        "from sklearn.ensemble import RandomForestClassifier\n",
        "from tqdm import tqdm\n",
        "import pandas as pd\n",
        "\n",
        "features = final_df.drop(columns=['label'])\n",
        "labels = final_df['label']\n",
        "\n",
        "label_encoder = LabelEncoder()\n",
        "\n",
        "encoded_labels = label_encoder.fit_transform(labels)\n",
        "\n",
        "scaler = StandardScaler()\n",
        "scaled_features = scaler.fit_transform(features)\n",
        "\n",
        "n_estimators = 100\n",
        "rf = RandomForestClassifier(n_estimators=1, warm_start=True, random_state=42, n_jobs=-1)\n",
        "\n",
        "for i in tqdm(range(1, n_estimators + 1), desc=\"Building Trees\"):\n",
        "    rf.set_params(n_estimators=i)\n",
        "    rf.fit(scaled_features, encoded_labels)\n",
        "\n",
        "importances = rf.feature_importances_\n",
        "\n",
        "feature_importance_df = pd.DataFrame({\n",
        "    'Feature': features.columns,\n",
        "    'Importance': importances\n",
        "}).sort_values(by='Importance', ascending=False)\n",
        "\n",
        "top_27_features = feature_importance_df.head(27)['Feature'].values\n",
        "print(\"Top 27 selected features:\")\n",
        "print(top_27_features)\n",
        "\n",
        "selected_features_df = final_df[top_27_features]\n",
        "\n",
        "final_data = pd.concat([selected_features_df, pd.DataFrame(encoded_labels, columns=['encoded_label'])], axis=1)\n",
        "\n",
        "label_mapping = dict(zip(label_encoder.classes_, label_encoder.transform(label_encoder.classes_)))\n",
        "print(\"Label Mapping:\", label_mapping)\n",
        "\n",
        "print(final_data.head())\n"
      ]
    },
    {
      "cell_type": "code",
      "source": [
        "import numpy as np\n",
        "from sklearn.preprocessing import MinMaxScaler\n",
        "from sklearn.cluster import KMeans\n",
        "\n",
        "features = final_data.iloc[:, :-1]\n",
        "labels = final_data['encoded_label']\n",
        "\n",
        "scaler = MinMaxScaler(feature_range=(0, 255))\n",
        "scaled_features = scaler.fit_transform(features)\n",
        "\n",
        "kmeans = KMeans(n_clusters=9, random_state=42)\n",
        "kmeans.fit(scaled_features.T)\n",
        "\n",
        "cluster_assignments = kmeans.labels_\n",
        "\n",
        "image_dataset = []\n",
        "image_labels = []\n",
        "\n",
        "for i in range(scaled_features.shape[0]):\n",
        "    feature_row = scaled_features[i, :]\n",
        "    rgb_image = np.zeros((3, 3, 3))\n",
        "\n",
        "\n",
        "    for cluster_idx in range(9):\n",
        "        feature_indices = np.where(cluster_assignments == cluster_idx)[0]\n",
        "\n",
        "\n",
        "        for channel, feature_index in enumerate(feature_indices[:3]):\n",
        "            x = cluster_idx // 3  # Row index in 3x3 grid\n",
        "            y = cluster_idx % 3   # Column index in 3x3 grid\n",
        "            rgb_image[x, y, channel] = feature_row[feature_index]\n",
        "\n",
        "    image_dataset.append(rgb_image)\n",
        "    image_labels.append(labels.iloc[i])\n",
        "\n",
        "image_dataset = np.array(image_dataset)\n",
        "image_labels = np.array(image_labels)\n",
        "\n",
        "print(f\"Image dataset shape: {image_dataset.shape}\")\n",
        "print(f\"Label dataset shape: {image_labels.shape}\")\n"
      ],
      "metadata": {
        "colab": {
          "base_uri": "https://localhost:8080/"
        },
        "id": "oWf4_abVRKRI",
        "outputId": "0b66032e-5bdc-4cb1-eb03-dc4b5f04e20c"
      },
      "execution_count": 10,
      "outputs": [
        {
          "output_type": "stream",
          "name": "stdout",
          "text": [
            "Image dataset shape: (1157000, 3, 3, 3)\n",
            "Label dataset shape: (1157000,)\n"
          ]
        }
      ]
    },
    {
      "cell_type": "code",
      "source": [
        "import matplotlib.pyplot as plt\n",
        "import numpy as np\n",
        "\n",
        "def show_random_images(image_dataset, image_labels, num_samples=24):\n",
        "    indices = np.random.choice(len(image_dataset), num_samples, replace=False)\n",
        "    selected_images = image_dataset[indices]\n",
        "    selected_labels = image_labels[indices]\n",
        "\n",
        "    fig, axes = plt.subplots(4, 6, figsize=(15, 10))\n",
        "\n",
        "    axes = axes.flatten()\n",
        "\n",
        "    for i in range(num_samples):\n",
        "        img = selected_images[i]\n",
        "        label = selected_labels[i]\n",
        "\n",
        "        axes[i].imshow(img.astype(np.uint8))  # Convert to uint8 for display\n",
        "        axes[i].set_title(f'Label: {label}')\n",
        "        axes[i].axis('off')\n",
        "\n",
        "    for j in range(num_samples, len(axes)):\n",
        "        axes[j].axis('off')\n",
        "\n",
        "    plt.tight_layout()\n",
        "    plt.show()\n",
        "\n",
        "show_random_images(image_dataset, image_labels)\n"
      ],
      "metadata": {
        "colab": {
          "base_uri": "https://localhost:8080/",
          "height": 764
        },
        "id": "2HTwefsVNPvk",
        "outputId": "609af6a9-b367-4355-fcc8-bdc097a06d82"
      },
      "execution_count": 11,
      "outputs": [
        {
          "output_type": "display_data",
          "data": {
            "text/plain": [
              "<Figure size 1500x1000 with 24 Axes>"
            ],
            "image/png": "[encoded data removed]"
          },
          "metadata": {}
        }
      ]
    },
    {
      "cell_type": "code",
      "source": [
        "import torch\n",
        "import torch.nn as nn\n",
        "import torch.optim as optim\n",
        "from torch.utils.data import DataLoader, TensorDataset, random_split\n",
        "import numpy as np\n",
        "import matplotlib.pyplot as plt\n",
        "from sklearn.metrics import confusion_matrix, classification_report, roc_curve, auc\n",
        "from sklearn.preprocessing import label_binarize\n",
        "import seaborn as sns\n",
        "from tqdm import tqdm\n",
        "\n",
        "# Check for CUDA availability\n",
        "device = torch.device(\"cuda\" if torch.cuda.is_available() else \"cpu\")\n",
        "print(f\"Using device: {device}\")\n",
        "\n",
        "# Set random seeds for reproducibility\n",
        "torch.manual_seed(42)\n",
        "np.random.seed(42)\n",
        "if torch.cuda.is_available():\n",
        "    torch.cuda.manual_seed(42)\n",
        "\n",
        "# Prepare the dataset\n",
        "image_dataset_tensor = torch.tensor(image_dataset, dtype=torch.float32).permute(0, 3, 1, 2)  # (N, C, H, W)\n",
        "image_labels_tensor = torch.tensor(image_labels, dtype=torch.long)\n",
        "\n",
        "# Compute class weights for imbalance handling\n",
        "class_counts = torch.bincount(image_labels_tensor)\n",
        "class_weights = 1.0 / class_counts\n",
        "weights = class_weights.to(device)\n",
        "\n",
        "# Dataset splitting\n",
        "dataset = TensorDataset(image_dataset_tensor, image_labels_tensor)\n",
        "train_size = int(0.8 * len(dataset))\n",
        "test_size = len(dataset) - train_size\n",
        "train_dataset, test_dataset = random_split(dataset, [train_size, test_size])\n",
        "\n",
        "batch_size = 64\n",
        "train_loader = DataLoader(train_dataset, batch_size=batch_size, shuffle=True)\n",
        "test_loader = DataLoader(test_dataset, batch_size=batch_size, shuffle=False)\n",
        "\n",
        "# Define Autoencoder architecture\n",
        "class AutoencoderCNN(nn.Module):\n",
        "    def __init__(self, num_classes):\n",
        "        super(AutoencoderCNN, self).__init__()\n",
        "\n",
        "        # Encoder: Compress the 3x3x3 input image into a latent space\n",
        "        self.encoder = nn.Sequential(\n",
        "            nn.Conv2d(3, 16, kernel_size=3, padding=1),  # (3, 3, 3) -> (16, 3, 3)\n",
        "            nn.ReLU(),\n",
        "            nn.BatchNorm2d(16),\n",
        "            nn.Conv2d(16, 32, kernel_size=3, padding=1),  # (16, 3, 3) -> (32, 3, 3)\n",
        "            nn.ReLU(),\n",
        "            nn.BatchNorm2d(32),\n",
        "            nn.Conv2d(32, 64, kernel_size=3, padding=1),  # (32, 3, 3) -> (64, 3, 3)\n",
        "            nn.ReLU(),\n",
        "            nn.BatchNorm2d(64),\n",
        "            nn.AdaptiveAvgPool2d(1),  # (64, 3, 3) -> (64, 1, 1)\n",
        "        )\n",
        "\n",
        "        # Latent space (dense layer)\n",
        "        self.fc1 = nn.Linear(64, 128)  # (64) -> (128)\n",
        "        self.fc2 = nn.Linear(128, num_classes)  # (128) -> (num_classes)\n",
        "\n",
        "        # Decoder: Reconstruct the image from the latent space\n",
        "        self.fc3 = nn.Linear(128, 64)  # (128) -> (64)\n",
        "        self.fc4 = nn.Linear(64, 64 * 1 * 1)  # (64) -> (64, 1, 1)\n",
        "        self.decoder = nn.Sequential(\n",
        "            nn.ConvTranspose2d(64, 32, kernel_size=3, stride=1, padding=1),  # (64, 1, 1) -> (32, 3, 3)\n",
        "            nn.ReLU(),\n",
        "            nn.BatchNorm2d(32),\n",
        "            nn.ConvTranspose2d(32, 16, kernel_size=3, stride=1, padding=1),  # (32, 3, 3) -> (16, 3, 3)\n",
        "            nn.ReLU(),\n",
        "            nn.BatchNorm2d(16),\n",
        "            nn.ConvTranspose2d(16, 3, kernel_size=3, stride=1, padding=1),  # (16, 3, 3) -> (3, 3, 3)\n",
        "            nn.Sigmoid(),  # Output should be in range [0, 1] (reconstruction)\n",
        "        )\n",
        "\n",
        "    def forward(self, x):\n",
        "        # Encoding\n",
        "        x = self.encoder(x)\n",
        "        x = x.view(x.size(0), -1)  # Flatten for the fully connected layer\n",
        "        x = self.fc1(x)\n",
        "        class_output = self.fc2(x)  # Classification output\n",
        "\n",
        "        # Decoding (Reconstruction)\n",
        "        x = self.fc3(x)\n",
        "        x = self.fc4(x)\n",
        "        x = x.view(x.size(0), 64, 1, 1)  # Reshape back for ConvTranspose2d\n",
        "        reconstruction_output = self.decoder(x)\n",
        "\n",
        "        return class_output, reconstruction_output\n",
        "\n",
        "# Instantiate the model, loss function, optimizer, and scheduler\n",
        "num_classes = len(torch.unique(image_labels_tensor))\n",
        "model = AutoencoderCNN(num_classes=num_classes).to(device)\n",
        "\n",
        "# Loss function for both classification and reconstruction\n",
        "classification_criterion = nn.CrossEntropyLoss(weight=weights)\n",
        "reconstruction_criterion = nn.MSELoss()\n",
        "optimizer = optim.AdamW(model.parameters(), lr=0.001)\n",
        "scheduler = optim.lr_scheduler.CosineAnnealingLR(optimizer, T_max=20)\n",
        "\n",
        "# Function to count and print the number of parameters\n",
        "def count_parameters(model):\n",
        "    return sum(p.numel() for p in model.parameters() if p.requires_grad)\n",
        "\n",
        "# Print model architecture\n",
        "print(model)\n",
        "print(f\"Number of trainable parameters: {count_parameters(model)}\")\n",
        "\n",
        "# Early Stopping class\n",
        "class EarlyStopping:\n",
        "    def __init__(self, patience=5, delta=0):\n",
        "        self.patience = patience\n",
        "        self.delta = delta\n",
        "        self.counter = 0\n",
        "        self.best_loss = None\n",
        "        self.early_stop = False\n",
        "\n",
        "    def __call__(self, val_loss):\n",
        "        if self.best_loss is None or val_loss < self.best_loss - self.delta:\n",
        "            self.best_loss = val_loss\n",
        "            self.counter = 0\n",
        "        else:\n",
        "            self.counter += 1\n",
        "            if self.counter >= self.patience:\n",
        "                self.early_stop = True\n",
        "\n",
        "# Train the model\n",
        "def train_model(model, train_loader, criterion_class, criterion_recon, optimizer, scheduler, num_epochs=20):\n",
        "    train_losses = []\n",
        "    train_accuracies = []\n",
        "\n",
        "    for epoch in tqdm(range(num_epochs), desc=\"Training Epochs\"):\n",
        "        model.train()\n",
        "        running_loss = 0.0\n",
        "        running_class_loss = 0.0\n",
        "        running_recon_loss = 0.0\n",
        "        correct = 0\n",
        "        total = 0\n",
        "\n",
        "        for images, labels in train_loader:\n",
        "            images, labels = images.to(device), labels.to(device)\n",
        "            optimizer.zero_grad()\n",
        "\n",
        "            # Forward pass\n",
        "            class_output, reconstruction_output = model(images)\n",
        "\n",
        "            # Classification loss\n",
        "            class_loss = criterion_class(class_output, labels)\n",
        "\n",
        "            # Reconstruction loss\n",
        "            recon_loss = criterion_recon(reconstruction_output, images)\n",
        "\n",
        "            # Total loss is the sum of both losses\n",
        "            loss = class_loss + recon_loss\n",
        "\n",
        "            # Backpropagation\n",
        "            loss.backward()\n",
        "            optimizer.step()\n",
        "\n",
        "            running_loss += loss.item()\n",
        "            running_class_loss += class_loss.item()\n",
        "            running_recon_loss += recon_loss.item()\n",
        "\n",
        "            # Classification accuracy\n",
        "            _, predicted = class_output.max(1)\n",
        "            total += labels.size(0)\n",
        "            correct += predicted.eq(labels).sum().item()\n",
        "\n",
        "        epoch_loss = running_loss / len(train_loader)\n",
        "        epoch_class_loss = running_class_loss / len(train_loader)\n",
        "        epoch_recon_loss = running_recon_loss / len(train_loader)\n",
        "        epoch_accuracy = 100. * correct / total\n",
        "\n",
        "        train_losses.append(epoch_loss)\n",
        "        train_accuracies.append(epoch_accuracy)\n",
        "\n",
        "        # Update learning rate and check for early stopping\n",
        "        scheduler.step()\n",
        "        if early_stopping.early_stop:\n",
        "            print(\"Early stopping triggered.\")\n",
        "            break\n",
        "\n",
        "        print(f\"Epoch [{epoch + 1}/{num_epochs}], Loss: {epoch_loss:.4f}, \"\n",
        "              f\"Classification Loss: {epoch_class_loss:.4f}, \"\n",
        "              f\"Reconstruction Loss: {epoch_recon_loss:.4f}, \"\n",
        "              f\"Accuracy: {epoch_accuracy:.2f}%\")\n",
        "\n",
        "    return train_losses, train_accuracies\n",
        "\n",
        "# Evaluate the model and generate confusion matrix\n",
        "def evaluate_model(model, test_loader):\n",
        "    model.eval()\n",
        "    correct = 0\n",
        "    total = 0\n",
        "    test_loss = 0.0\n",
        "    all_preds = []\n",
        "    all_labels = []\n",
        "\n",
        "    with torch.no_grad():\n",
        "        for images, labels in test_loader:\n",
        "            images, labels = images.to(device), labels.to(device)\n",
        "            class_output, reconstruction_output = model(images)\n",
        "            class_loss = classification_criterion(class_output, labels)\n",
        "            recon_loss = reconstruction_criterion(reconstruction_output, images)\n",
        "            loss = class_loss + recon_loss\n",
        "\n",
        "            test_loss += loss.item()\n",
        "\n",
        "            _, predicted = class_output.max(1)\n",
        "            total += labels.size(0)\n",
        "            correct += predicted.eq(labels).sum().item()\n",
        "\n",
        "            all_preds.extend(predicted.cpu().numpy())\n",
        "            all_labels.extend(labels.cpu().numpy())\n",
        "\n",
        "    accuracy = 100. * correct / total\n",
        "    test_loss = test_loss / len(test_loader)\n",
        "    print(f\"Test Loss: {test_loss:.4f}, Test Accuracy: {accuracy:.2f}%\")\n",
        "\n",
        "    # Confusion Matrix\n",
        "    cm = confusion_matrix(all_labels, all_preds)\n",
        "    plt.figure(figsize=(10, 8))\n",
        "    sns.heatmap(cm, annot=True, fmt='d', cmap='Blues')\n",
        "    plt.title('Confusion Matrix')\n",
        "    plt.show()\n",
        "\n",
        "    # Precision, Recall, F1-Score\n",
        "    report = classification_report(all_labels, all_preds, target_names=[str(i) for i in range(num_classes)])\n",
        "    print(report)\n",
        "\n",
        "    return test_loss, accuracy\n",
        "\n",
        "# ROC and AUC curves for multi-class classification\n",
        "def plot_multi_class_roc(model, test_loader, num_classes):\n",
        "    model.eval()\n",
        "    all_preds = []\n",
        "    all_labels = []\n",
        "\n",
        "    with torch.no_grad():\n",
        "        for images, labels in test_loader:\n",
        "            images, labels = images.to(device), labels.to(device)\n",
        "            class_output, _ = model(images)\n",
        "            probs = nn.functional.softmax(class_output, dim=1)\n",
        "            all_preds.append(probs.cpu().numpy())\n",
        "            all_labels.append(labels.cpu().numpy())\n",
        "\n",
        "    all_preds = np.concatenate(all_preds)\n",
        "    all_labels = np.concatenate(all_labels)\n",
        "\n",
        "    # Binarize the labels for multi-class ROC curve calculation\n",
        "    all_labels_binarized = label_binarize(all_labels, classes=list(range(num_classes)))\n",
        "\n",
        "    plt.figure(figsize=(12, 8))\n",
        "    for i in range(num_classes):\n",
        "        fpr, tpr, _ = roc_curve(all_labels_binarized[:, i], all_preds[:, i])\n",
        "        roc_auc = auc(fpr, tpr)\n",
        "        plt.plot(fpr, tpr, label=f'Class {i} (AUC = {roc_auc:.2f})')\n",
        "\n",
        "    plt.plot([0, 1], [0, 1], color='navy', linestyle='--')\n",
        "    plt.xlabel('False Positive Rate')\n",
        "    plt.ylabel('True Positive Rate')\n",
        "    plt.title('Multi-Class ROC Curve')\n",
        "    plt.legend(loc='lower right')\n",
        "    plt.show()\n",
        "\n",
        "# Train the model\n",
        "num_epochs = 20\n",
        "early_stopping = EarlyStopping(patience=5, delta=0.001)\n",
        "train_losses, train_accuracies = train_model(model, train_loader, classification_criterion, reconstruction_criterion, optimizer, scheduler, num_epochs)\n",
        "\n",
        "# Evaluate the model\n",
        "test_loss, test_accuracy = evaluate_model(model, test_loader)\n",
        "\n",
        "# Plot accuracy and loss curves\n",
        "plt.figure(figsize=(12, 5))\n",
        "plt.subplot(1, 2, 1)\n",
        "plt.plot(train_losses, label='Train Loss')\n",
        "plt.title('Training Loss')\n",
        "plt.xlabel('Epochs')\n",
        "plt.ylabel('Loss')\n",
        "plt.legend()\n",
        "\n",
        "plt.subplot(1, 2, 2)\n",
        "plt.plot(train_accuracies, label='Train Accuracy')\n",
        "plt.title('Training Accuracy')\n",
        "plt.xlabel('Epochs')\n",
        "plt.ylabel('Accuracy')\n",
        "plt.legend()\n",
        "\n",
        "plt.show()\n",
        "\n",
        "# Plot ROC-AUC curves\n",
        "plot_multi_class_roc(model, test_loader, num_classes)\n"
      ],
      "metadata": {
        "colab": {
          "base_uri": "https://localhost:8080/",
          "height": 1000
        },
        "id": "20KxKuVCa69Y",
        "outputId": "305881fa-7dfd-4455-ee67-e76071df0b4b"
      },
      "execution_count": null,
      "outputs": [
        {
          "output_type": "stream",
          "name": "stdout",
          "text": [
            "Using device: cuda\n",
            "AutoencoderCNN(\n",
            "  (encoder): Sequential(\n",
            "    (0): Conv2d(3, 16, kernel_size=(3, 3), stride=(1, 1), padding=(1, 1))\n",
            "    (1): ReLU()\n",
            "    (2): BatchNorm2d(16, eps=1e-05, momentum=0.1, affine=True, track_running_stats=True)\n",
            "    (3): Conv2d(16, 32, kernel_size=(3, 3), stride=(1, 1), padding=(1, 1))\n",
            "    (4): ReLU()\n",
            "    (5): BatchNorm2d(32, eps=1e-05, momentum=0.1, affine=True, track_running_stats=True)\n",
            "    (6): Conv2d(32, 64, kernel_size=(3, 3), stride=(1, 1), padding=(1, 1))\n",
            "    (7): ReLU()\n",
            "    (8): BatchNorm2d(64, eps=1e-05, momentum=0.1, affine=True, track_running_stats=True)\n",
            "    (9): AdaptiveAvgPool2d(output_size=1)\n",
            "  )\n",
            "  (fc1): Linear(in_features=64, out_features=128, bias=True)\n",
            "  (fc2): Linear(in_features=128, out_features=11, bias=True)\n",
            "  (fc3): Linear(in_features=128, out_features=64, bias=True)\n",
            "  (fc4): Linear(in_features=64, out_features=64, bias=True)\n",
            "  (decoder): Sequential(\n",
            "    (0): ConvTranspose2d(64, 32, kernel_size=(3, 3), stride=(1, 1), padding=(1, 1))\n",
            "    (1): ReLU()\n",
            "    (2): BatchNorm2d(32, eps=1e-05, momentum=0.1, affine=True, track_running_stats=True)\n",
            "    (3): ConvTranspose2d(32, 16, kernel_size=(3, 3), stride=(1, 1), padding=(1, 1))\n",
            "    (4): ReLU()\n",
            "    (5): BatchNorm2d(16, eps=1e-05, momentum=0.1, affine=True, track_running_stats=True)\n",
            "    (6): ConvTranspose2d(16, 3, kernel_size=(3, 3), stride=(1, 1), padding=(1, 1))\n",
            "    (7): Sigmoid()\n",
            "  )\n",
            ")\n",
            "Number of trainable parameters: 69582\n"
          ]
        },
        {
          "output_type": "stream",
          "name": "stderr",
          "text": [
            "Training Epochs:   5%|▌         | 1/20 [01:59<37:47, 119.33s/it]"
          ]
        },
        {
          "output_type": "stream",
          "name": "stdout",
          "text": [
            "Epoch [1/20], Loss: 7585.7662, Classification Loss: 0.4179, Reconstruction Loss: 7585.3484, Accuracy: 78.24%\n"
          ]
        },
        {
          "output_type": "stream",
          "name": "stderr",
          "text": [
            "\rTraining Epochs:  10%|█         | 2/20 [03:55<35:15, 117.55s/it]"
          ]
        },
        {
          "output_type": "stream",
          "name": "stdout",
          "text": [
            "Epoch [2/20], Loss: 7585.0691, Classification Loss: 0.2162, Reconstruction Loss: 7584.8529, Accuracy: 86.77%\n"
          ]
        },
        {
          "output_type": "stream",
          "name": "stderr",
          "text": [
            "\rTraining Epochs:  15%|█▌        | 3/20 [05:51<33:04, 116.74s/it]"
          ]
        },
        {
          "output_type": "stream",
          "name": "stdout",
          "text": [
            "Epoch [3/20], Loss: 7585.0117, Classification Loss: 0.1721, Reconstruction Loss: 7584.8397, Accuracy: 88.30%\n"
          ]
        },
        {
          "output_type": "stream",
          "name": "stderr",
          "text": [
            "\rTraining Epochs:  20%|██        | 4/20 [07:48<31:08, 116.79s/it]"
          ]
        },
        {
          "output_type": "stream",
          "name": "stdout",
          "text": [
            "Epoch [4/20], Loss: 7585.0402, Classification Loss: 0.1608, Reconstruction Loss: 7584.8795, Accuracy: 88.81%\n"
          ]
        },
        {
          "output_type": "stream",
          "name": "stderr",
          "text": [
            "\rTraining Epochs:  25%|██▌       | 5/20 [09:34<28:15, 113.04s/it]"
          ]
        },
        {
          "output_type": "stream",
          "name": "stdout",
          "text": [
            "Epoch [5/20], Loss: 7585.0359, Classification Loss: 0.1541, Reconstruction Loss: 7584.8819, Accuracy: 88.99%\n"
          ]
        },
        {
          "output_type": "stream",
          "name": "stderr",
          "text": [
            "\rTraining Epochs:  30%|███       | 6/20 [11:16<25:30, 109.32s/it]"
          ]
        },
        {
          "output_type": "stream",
          "name": "stdout",
          "text": [
            "Epoch [6/20], Loss: 7584.9912, Classification Loss: 0.1511, Reconstruction Loss: 7584.8402, Accuracy: 89.07%\n"
          ]
        },
        {
          "output_type": "stream",
          "name": "stderr",
          "text": [
            "\rTraining Epochs:  35%|███▌      | 7/20 [13:10<23:58, 110.69s/it]"
          ]
        },
        {
          "output_type": "stream",
          "name": "stdout",
          "text": [
            "Epoch [7/20], Loss: 7585.0173, Classification Loss: 0.1469, Reconstruction Loss: 7584.8704, Accuracy: 89.24%\n"
          ]
        },
        {
          "output_type": "stream",
          "name": "stderr",
          "text": [
            "\rTraining Epochs:  40%|████      | 8/20 [15:05<22:25, 112.09s/it]"
          ]
        },
        {
          "output_type": "stream",
          "name": "stdout",
          "text": [
            "Epoch [8/20], Loss: 7584.9170, Classification Loss: 0.1447, Reconstruction Loss: 7584.7722, Accuracy: 89.28%\n"
          ]
        },
        {
          "output_type": "stream",
          "name": "stderr",
          "text": [
            "\rTraining Epochs:  45%|████▌     | 9/20 [16:57<20:33, 112.16s/it]"
          ]
        },
        {
          "output_type": "stream",
          "name": "stdout",
          "text": [
            "Epoch [9/20], Loss: 7584.9480, Classification Loss: 0.1443, Reconstruction Loss: 7584.8036, Accuracy: 89.31%\n"
          ]
        },
        {
          "output_type": "stream",
          "name": "stderr",
          "text": [
            "\rTraining Epochs:  50%|█████     | 10/20 [18:48<18:38, 111.82s/it]"
          ]
        },
        {
          "output_type": "stream",
          "name": "stdout",
          "text": [
            "Epoch [10/20], Loss: 7584.9537, Classification Loss: 0.1414, Reconstruction Loss: 7584.8123, Accuracy: 89.41%\n"
          ]
        },
        {
          "output_type": "stream",
          "name": "stderr",
          "text": [
            "\rTraining Epochs:  55%|█████▌    | 11/20 [20:41<16:48, 112.03s/it]"
          ]
        },
        {
          "output_type": "stream",
          "name": "stdout",
          "text": [
            "Epoch [11/20], Loss: 7584.9498, Classification Loss: 0.1393, Reconstruction Loss: 7584.8105, Accuracy: 89.46%\n"
          ]
        },
        {
          "output_type": "stream",
          "name": "stderr",
          "text": [
            "\rTraining Epochs:  60%|██████    | 12/20 [22:37<15:05, 113.21s/it]"
          ]
        },
        {
          "output_type": "stream",
          "name": "stdout",
          "text": [
            "Epoch [12/20], Loss: 7584.9365, Classification Loss: 0.1370, Reconstruction Loss: 7584.7995, Accuracy: 89.54%\n"
          ]
        },
        {
          "output_type": "stream",
          "name": "stderr",
          "text": [
            "\rTraining Epochs:  65%|██████▌   | 13/20 [24:32<13:16, 113.77s/it]"
          ]
        },
        {
          "output_type": "stream",
          "name": "stdout",
          "text": [
            "Epoch [13/20], Loss: 7584.9082, Classification Loss: 0.1348, Reconstruction Loss: 7584.7734, Accuracy: 89.62%\n"
          ]
        },
        {
          "output_type": "stream",
          "name": "stderr",
          "text": [
            "\rTraining Epochs:  70%|███████   | 14/20 [26:26<11:23, 113.89s/it]"
          ]
        },
        {
          "output_type": "stream",
          "name": "stdout",
          "text": [
            "Epoch [14/20], Loss: 7584.9237, Classification Loss: 0.1326, Reconstruction Loss: 7584.7911, Accuracy: 89.70%\n"
          ]
        },
        {
          "output_type": "stream",
          "name": "stderr",
          "text": [
            "\rTraining Epochs:  75%|███████▌  | 15/20 [28:20<09:29, 113.84s/it]"
          ]
        },
        {
          "output_type": "stream",
          "name": "stdout",
          "text": [
            "Epoch [15/20], Loss: 7584.9016, Classification Loss: 0.1308, Reconstruction Loss: 7584.7708, Accuracy: 89.71%\n"
          ]
        },
        {
          "output_type": "stream",
          "name": "stderr",
          "text": [
            "\rTraining Epochs:  80%|████████  | 16/20 [30:03<07:22, 110.61s/it]"
          ]
        },
        {
          "output_type": "stream",
          "name": "stdout",
          "text": [
            "Epoch [16/20], Loss: 7584.9041, Classification Loss: 0.1297, Reconstruction Loss: 7584.7744, Accuracy: 89.83%\n"
          ]
        },
        {
          "output_type": "stream",
          "name": "stderr",
          "text": [
            "\rTraining Epochs:  85%|████████▌ | 17/20 [31:36<05:16, 105.42s/it]"
          ]
        },
        {
          "output_type": "stream",
          "name": "stdout",
          "text": [
            "Epoch [17/20], Loss: 7584.8979, Classification Loss: 0.1286, Reconstruction Loss: 7584.7693, Accuracy: 89.84%\n"
          ]
        },
        {
          "output_type": "stream",
          "name": "stderr",
          "text": [
            "\rTraining Epochs:  90%|█████████ | 18/20 [33:19<03:29, 104.70s/it]"
          ]
        },
        {
          "output_type": "stream",
          "name": "stdout",
          "text": [
            "Epoch [18/20], Loss: 7584.9195, Classification Loss: 0.1279, Reconstruction Loss: 7584.7916, Accuracy: 89.86%\n"
          ]
        },
        {
          "output_type": "stream",
          "name": "stderr",
          "text": [
            "\rTraining Epochs:  95%|█████████▌| 19/20 [35:14<01:47, 107.82s/it]"
          ]
        },
        {
          "output_type": "stream",
          "name": "stdout",
          "text": [
            "Epoch [19/20], Loss: 7584.9374, Classification Loss: 0.1275, Reconstruction Loss: 7584.8099, Accuracy: 89.81%\n"
          ]
        },
        {
          "output_type": "stream",
          "name": "stderr",
          "text": [
            "Training Epochs: 100%|██████████| 20/20 [37:09<00:00, 111.48s/it]"
          ]
        },
        {
          "output_type": "stream",
          "name": "stdout",
          "text": [
            "Epoch [20/20], Loss: 7584.8988, Classification Loss: 0.1273, Reconstruction Loss: 7584.7715, Accuracy: 89.87%\n"
          ]
        },
        {
          "output_type": "stream",
          "name": "stderr",
          "text": [
            "\n",
            "/usr/local/lib/python3.10/dist-packages/torch/nn/modules/loss.py:608: UserWarning: Using a target size (torch.Size([40, 3, 3, 3])) that is different to the input size (torch.Size([40, 3, 1, 1])). This will likely lead to incorrect results due to broadcasting. Please ensure they have the same size.\n",
            "  return F.mse_loss(input, target, reduction=self.reduction)\n"
          ]
        },
        {
          "output_type": "stream",
          "name": "stdout",
          "text": [
            "Test Loss: 7598.1212, Test Accuracy: 89.89%\n"
          ]
        },
        {
          "output_type": "display_data",
          "data": {
            "text/plain": [
              "<Figure size 1000x800 with 2 Axes>"
            ],
            "image/png": "[encoded data removed]"
          },
          "metadata": {}
        },
        {
          "output_type": "stream",
          "name": "stdout",
          "text": [
            "              precision    recall  f1-score   support\n",
            "\n",
            "           0       1.00      1.00      1.00     23530\n",
            "           1       1.00      1.00      1.00     23407\n",
            "           2       1.00      1.00      1.00     23449\n",
            "           3       1.00      1.00      1.00     23299\n",
            "           4       0.56      0.00      0.00     23324\n",
            "           5       0.50      1.00      0.67     23513\n",
            "           6       1.00      1.00      1.00     18256\n",
            "           7       1.00      1.00      1.00     18106\n",
            "           8       1.00      1.00      1.00     18259\n",
            "           9       1.00      1.00      1.00     18209\n",
            "          10       1.00      1.00      1.00     18048\n",
            "\n",
            "    accuracy                           0.90    231400\n",
            "   macro avg       0.91      0.91      0.88    231400\n",
            "weighted avg       0.90      0.90      0.87    231400\n",
            "\n"
          ]
        },
        {
          "output_type": "display_data",
          "data": {
            "text/plain": [
              "<Figure size 1200x500 with 2 Axes>"
            ],
            "image/png": "[encoded data removed]"
          },
          "metadata": {}
        },
        {
          "output_type": "display_data",
          "data": {
            "text/plain": [
              "<Figure size 1200x800 with 1 Axes>"
            ],
            "image/png": "[encoded data removed]"
          },
          "metadata": {}
        }
      ]
    }
  ],
  "metadata": {
    "colab": {
      "provenance": [],
      "gpuType": "T4"
    },
    "kernelspec": {
      "display_name": "Python 3",
      "name": "python3"
    },
    "language_info": {
      "name": "python"
    },
    "accelerator": "GPU"
  },
  "nbformat": 4,
  "nbformat_minor": 0
}