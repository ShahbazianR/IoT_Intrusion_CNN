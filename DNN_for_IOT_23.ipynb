{
  "nbformat": 4,
  "nbformat_minor": 0,
  "metadata": {
    "colab": {
      "provenance": [],
      "gpuType": "T4"
    },
    "kernelspec": {
      "name": "python3",
      "display_name": "Python 3"
    },
    "language_info": {
      "name": "python"
    },
    "accelerator": "GPU"
  },
  "cells": [
    {
      "cell_type": "code",
      "execution_count": 5,
      "metadata": {
        "id": "8I83lN-leHhA",
        "colab": {
          "base_uri": "https://localhost:8080/"
        },
        "outputId": "398eea3e-6614-43fb-d00b-15d30f941fe4"
      },
      "outputs": [
        {
          "output_type": "stream",
          "name": "stdout",
          "text": [
            "/bin/bash: -c: line 2: syntax error: unexpected end of file\n"
          ]
        }
      ],
      "source": [
        "! pip install -q kaggle|"
      ]
    },
    {
      "cell_type": "code",
      "source": [
        "from google.colab import files\n",
        "files.upload()"
      ],
      "metadata": {
        "colab": {
          "base_uri": "https://localhost:8080/",
          "height": 90
        },
        "id": "nwPY7_3TePuW",
        "outputId": "5b88818c-b964-40c5-97ec-ee08a2e22106"
      },
      "execution_count": 6,
      "outputs": [
        {
          "output_type": "display_data",
          "data": {
            "text/plain": [
              "<IPython.core.display.HTML object>"
            ],
            "text/html": [
              "\n",
              "     <input type=\"file\" id=\"files-cbd8c6ac-4e32-408f-9c20-79c1d1bca9b6\" name=\"files[]\" multiple disabled\n",
              "        style=\"border:none\" />\n",
              "     <output id=\"result-cbd8c6ac-4e32-408f-9c20-79c1d1bca9b6\">\n",
              "      Upload widget is only available when the cell has been executed in the\n",
              "      current browser session. Please rerun this cell to enable.\n",
              "      </output>\n",
              "      <script>// Copyright 2017 Google LLC\n",
              "//\n",
              "// Licensed under the Apache License, Version 2.0 (the \"License\");\n",
              "// you may not use this file except in compliance with the License.\n",
              "// You may obtain a copy of the License at\n",
              "//\n",
              "//      http://www.apache.org/licenses/LICENSE-2.0\n",
              "//\n",
              "// Unless required by applicable law or agreed to in writing, software\n",
              "// distributed under the License is distributed on an \"AS IS\" BASIS,\n",
              "// WITHOUT WARRANTIES OR CONDITIONS OF ANY KIND, either express or implied.\n",
              "// See the License for the specific language governing permissions and\n",
              "// limitations under the License.\n",
              "\n",
              "/**\n",
              " * @fileoverview Helpers for google.colab Python module.\n",
              " */\n",
              "(function(scope) {\n",
              "function span(text, styleAttributes = {}) {\n",
              "  const element = document.createElement('span');\n",
              "  element.textContent = text;\n",
              "  for (const key of Object.keys(styleAttributes)) {\n",
              "    element.style[key] = styleAttributes[key];\n",
              "  }\n",
              "  return element;\n",
              "}\n",
              "\n",
              "// Max number of bytes which will be uploaded at a time.\n",
              "const MAX_PAYLOAD_SIZE = 100 * 1024;\n",
              "\n",
              "function _uploadFiles(inputId, outputId) {\n",
              "  const steps = uploadFilesStep(inputId, outputId);\n",
              "  const outputElement = document.getElementById(outputId);\n",
              "  // Cache steps on the outputElement to make it available for the next call\n",
              "  // to uploadFilesContinue from Python.\n",
              "  outputElement.steps = steps;\n",
              "\n",
              "  return _uploadFilesContinue(outputId);\n",
              "}\n",
              "\n",
              "// This is roughly an async generator (not supported in the browser yet),\n",
              "// where there are multiple asynchronous steps and the Python side is going\n",
              "// to poll for completion of each step.\n",
              "// This uses a Promise to block the python side on completion of each step,\n",
              "// then passes the result of the previous step as the input to the next step.\n",
              "function _uploadFilesContinue(outputId) {\n",
              "  const outputElement = document.getElementById(outputId);\n",
              "  const steps = outputElement.steps;\n",
              "\n",
              "  const next = steps.next(outputElement.lastPromiseValue);\n",
              "  return Promise.resolve(next.value.promise).then((value) => {\n",
              "    // Cache the last promise value to make it available to the next\n",
              "    // step of the generator.\n",
              "    outputElement.lastPromiseValue = value;\n",
              "    return next.value.response;\n",
              "  });\n",
              "}\n",
              "\n",
              "/**\n",
              " * Generator function which is called between each async step of the upload\n",
              " * process.\n",
              " * @param {string} inputId Element ID of the input file picker element.\n",
              " * @param {string} outputId Element ID of the output display.\n",
              " * @return {!Iterable<!Object>} Iterable of next steps.\n",
              " */\n",
              "function* uploadFilesStep(inputId, outputId) {\n",
              "  const inputElement = document.getElementById(inputId);\n",
              "  inputElement.disabled = false;\n",
              "\n",
              "  const outputElement = document.getElementById(outputId);\n",
              "  outputElement.innerHTML = '';\n",
              "\n",
              "  const pickedPromise = new Promise((resolve) => {\n",
              "    inputElement.addEventListener('change', (e) => {\n",
              "      resolve(e.target.files);\n",
              "    });\n",
              "  });\n",
              "\n",
              "  const cancel = document.createElement('button');\n",
              "  inputElement.parentElement.appendChild(cancel);\n",
              "  cancel.textContent = 'Cancel upload';\n",
              "  const cancelPromise = new Promise((resolve) => {\n",
              "    cancel.onclick = () => {\n",
              "      resolve(null);\n",
              "    };\n",
              "  });\n",
              "\n",
              "  // Wait for the user to pick the files.\n",
              "  const files = yield {\n",
              "    promise: Promise.race([pickedPromise, cancelPromise]),\n",
              "    response: {\n",
              "      action: 'starting',\n",
              "    }\n",
              "  };\n",
              "\n",
              "  cancel.remove();\n",
              "\n",
              "  // Disable the input element since further picks are not allowed.\n",
              "  inputElement.disabled = true;\n",
              "\n",
              "  if (!files) {\n",
              "    return {\n",
              "      response: {\n",
              "        action: 'complete',\n",
              "      }\n",
              "    };\n",
              "  }\n",
              "\n",
              "  for (const file of files) {\n",
              "    const li = document.createElement('li');\n",
              "    li.append(span(file.name, {fontWeight: 'bold'}));\n",
              "    li.append(span(\n",
              "        `(${file.type || 'n/a'}) - ${file.size} bytes, ` +\n",
              "        `last modified: ${\n",
              "            file.lastModifiedDate ? file.lastModifiedDate.toLocaleDateString() :\n",
              "                                    'n/a'} - `));\n",
              "    const percent = span('0% done');\n",
              "    li.appendChild(percent);\n",
              "\n",
              "    outputElement.appendChild(li);\n",
              "\n",
              "    const fileDataPromise = new Promise((resolve) => {\n",
              "      const reader = new FileReader();\n",
              "      reader.onload = (e) => {\n",
              "        resolve(e.target.result);\n",
              "      };\n",
              "      reader.readAsArrayBuffer(file);\n",
              "    });\n",
              "    // Wait for the data to be ready.\n",
              "    let fileData = yield {\n",
              "      promise: fileDataPromise,\n",
              "      response: {\n",
              "        action: 'continue',\n",
              "      }\n",
              "    };\n",
              "\n",
              "    // Use a chunked sending to avoid message size limits. See b/62115660.\n",
              "    let position = 0;\n",
              "    do {\n",
              "      const length = Math.min(fileData.byteLength - position, MAX_PAYLOAD_SIZE);\n",
              "      const chunk = new Uint8Array(fileData, position, length);\n",
              "      position += length;\n",
              "\n",
              "      const base64 = btoa(String.fromCharCode.apply(null, chunk));\n",
              "      yield {\n",
              "        response: {\n",
              "          action: 'append',\n",
              "          file: file.name,\n",
              "          data: base64,\n",
              "        },\n",
              "      };\n",
              "\n",
              "      let percentDone = fileData.byteLength === 0 ?\n",
              "          100 :\n",
              "          Math.round((position / fileData.byteLength) * 100);\n",
              "      percent.textContent = `${percentDone}% done`;\n",
              "\n",
              "    } while (position < fileData.byteLength);\n",
              "  }\n",
              "\n",
              "  // All done.\n",
              "  yield {\n",
              "    response: {\n",
              "      action: 'complete',\n",
              "    }\n",
              "  };\n",
              "}\n",
              "\n",
              "scope.google = scope.google || {};\n",
              "scope.google.colab = scope.google.colab || {};\n",
              "scope.google.colab._files = {\n",
              "  _uploadFiles,\n",
              "  _uploadFilesContinue,\n",
              "};\n",
              "})(self);\n",
              "</script> "
            ]
          },
          "metadata": {}
        },
        {
          "output_type": "stream",
          "name": "stdout",
          "text": [
            "Saving kaggle.json to kaggle (1).json\n"
          ]
        },
        {
          "output_type": "execute_result",
          "data": {
            "text/plain": [
              "{'kaggle (1).json': b'{\"username\":\"negarmansouri96\",\"key\":\"dff6cfe0d2006e749b7c718a13c89eef\"}'}"
            ]
          },
          "metadata": {},
          "execution_count": 6
        }
      ]
    },
    {
      "cell_type": "code",
      "source": [
        "! mkdir ~/.kaggle\n",
        "! cp kaggle.json ~/.kaggle/\n",
        "! chmod 600 ~/.kaggle/kaggle.json"
      ],
      "metadata": {
        "id": "EuC-fOIEeWX6"
      },
      "execution_count": 7,
      "outputs": []
    },
    {
      "cell_type": "code",
      "source": [
        "! kaggle datasets download -d engraqeel/iot23preprocesseddata"
      ],
      "metadata": {
        "colab": {
          "base_uri": "https://localhost:8080/"
        },
        "id": "SatayAnteXcj",
        "outputId": "8281fceb-6689-4dc8-8a17-8675447b6ef4"
      },
      "execution_count": 8,
      "outputs": [
        {
          "output_type": "stream",
          "name": "stdout",
          "text": [
            "Dataset URL: https://www.kaggle.com/datasets/engraqeel/iot23preprocesseddata\n",
            "License(s): unknown\n",
            "iot23preprocesseddata.zip: Skipping, found more recently modified local copy (use --force to force download)\n"
          ]
        }
      ]
    },
    {
      "cell_type": "code",
      "source": [
        "import zipfile\n",
        "import os\n",
        "import pandas as pd\n",
        "import re\n",
        "\n",
        "zip_file_path = \"/content/iot23preprocesseddata.zip\"\n",
        "with zipfile.ZipFile(zip_file_path, 'r') as zip_ref:\n",
        "    zip_ref.extractall('extracted_files')"
      ],
      "metadata": {
        "id": "2tcYGjHBeZjF"
      },
      "execution_count": 9,
      "outputs": []
    },
    {
      "cell_type": "code",
      "source": [
        "folder_path = '/content/extracted_files'\n",
        "\n",
        "csv_files = [f for f in os.listdir(folder_path) if f.endswith('.csv')]\n",
        "\n",
        "\n",
        "combined_df = pd.DataFrame()\n",
        "\n",
        "\n",
        "for file in csv_files:\n",
        "    file_path = os.path.join(folder_path, file)\n",
        "    df = pd.read_csv(file_path)\n",
        "    combined_df = pd.concat([combined_df, df], ignore_index=True)\n",
        "\n",
        "\n",
        "\n",
        "print(\"number of categories:\", len(set(combined_df['label'])))\n",
        "print(\"categories:\", set(combined_df['label']))\n",
        "print(\"category count:\", combined_df['label'].value_counts())"
      ],
      "metadata": {
        "colab": {
          "base_uri": "https://localhost:8080/"
        },
        "id": "t-0x2aizebvq",
        "outputId": "ef7f44e1-a031-4794-8b85-532524ddcbaf"
      },
      "execution_count": 10,
      "outputs": [
        {
          "output_type": "stream",
          "name": "stderr",
          "text": [
            "<ipython-input-10-017e86722e1f>:11: DtypeWarning: Columns (9,10,11) have mixed types. Specify dtype option on import or set low_memory=False.\n",
            "  df = pd.read_csv(file_path)\n"
          ]
        },
        {
          "output_type": "stream",
          "name": "stdout",
          "text": [
            "number of categories: 13\n",
            "categories: {'C&C-Torii', 'Okiru', 'C&C', 'Okiru-Attack', 'Attack', 'FileDownload', 'C&C-HeartBeat-FileDownload', 'C&C-Mirai', 'Benign', 'C&C-HeartBeat', 'PartOfAHorizontalPortScan', 'C&C-FileDownload', 'DDoS'}\n",
            "category count: label\n",
            "PartOfAHorizontalPortScan     3389036\n",
            "Okiru                         1313012\n",
            "Benign                         688812\n",
            "DDoS                           638506\n",
            "C&C                             15286\n",
            "C&C-HeartBeat                    1332\n",
            "Attack                            538\n",
            "C&C-FileDownload                   46\n",
            "C&C-Torii                          30\n",
            "FileDownload                       13\n",
            "C&C-HeartBeat-FileDownload          8\n",
            "Okiru-Attack                        3\n",
            "C&C-Mirai                           1\n",
            "Name: count, dtype: int64\n"
          ]
        }
      ]
    },
    {
      "cell_type": "code",
      "source": [
        "class_mapping = {\n",
        "    'DDoS': 'DDoS',\n",
        "    'Benign': 'Benign',\n",
        "    'PartOfAHorizontalPortScan': 'PortScan',\n",
        "    'Okiru': 'Okiru',\n",
        "    'C&C-HeartBeat': 'C&C',\n",
        "    'C&C': 'C&C',\n",
        "    'C&C-Mirai': 'C&C',\n",
        "    'C&C-Torii': 'C&C',\n",
        "    'C&C-PartOfAHorizontalPortScan': 'C&C',\n",
        "    'C&C-FileDownload': 'C&C',\n",
        "    'C&C-HeartBeat-FileDownload': 'C&C',\n",
        "\n",
        "    'Okiru-Attack': 'Okiru',\n",
        "}\n",
        "\n",
        "\n",
        "combined_df['merged_label'] = combined_df['label'].map(class_mapping)\n",
        "\n",
        "\n",
        "combined_df = combined_df.dropna(subset=['merged_label'])\n",
        "\n",
        "\n",
        "merged_category_counts = combined_df['merged_label'].value_counts()\n",
        "\n",
        "\n",
        "print(\"Counts of merged categories:\")\n",
        "print(merged_category_counts)\n"
      ],
      "metadata": {
        "id": "hxlHXJHOfEpl",
        "colab": {
          "base_uri": "https://localhost:8080/"
        },
        "outputId": "8d836e81-f319-42a6-b8ea-2a8c4b45a8ed"
      },
      "execution_count": 11,
      "outputs": [
        {
          "output_type": "stream",
          "name": "stdout",
          "text": [
            "Counts of merged categories:\n",
            "merged_label\n",
            "PortScan    3389036\n",
            "Okiru       1313015\n",
            "Benign       688812\n",
            "DDoS         638506\n",
            "C&C           16703\n",
            "Name: count, dtype: int64\n"
          ]
        }
      ]
    },
    {
      "cell_type": "code",
      "source": [
        "print(combined_df['merged_label'].isnull().sum())\n"
      ],
      "metadata": {
        "colab": {
          "base_uri": "https://localhost:8080/"
        },
        "id": "awJ4P0rbbOwv",
        "outputId": "b8a31bf4-c54a-4cf3-d7a0-757abf475a88"
      },
      "execution_count": 12,
      "outputs": [
        {
          "output_type": "stream",
          "name": "stdout",
          "text": [
            "0\n"
          ]
        }
      ]
    },
    {
      "cell_type": "code",
      "source": [
        "from sklearn.utils import resample\n",
        "\n",
        "\n",
        "df_benign = combined_df[combined_df['merged_label'] == 'Benign']\n",
        "df_ddos = combined_df[combined_df['merged_label'] == 'DDoS']\n",
        "df_portscan = combined_df[combined_df['merged_label'] == 'PortScan']\n",
        "df_cnc = combined_df[combined_df['merged_label'] == 'C&C']\n",
        "df_okiru = combined_df[combined_df['merged_label'] == 'Okiru']\n",
        "\n",
        "\n",
        "min_samples = 10000\n",
        "df_ddos_downsampled = resample(df_ddos, replace=False, n_samples=min_samples, random_state=42)\n",
        "df_portscan_downsampled = resample(df_portscan, replace=False, n_samples=min_samples, random_state=42)\n",
        "df_cnc_downsampled = resample(df_cnc, replace=False, n_samples=min_samples, random_state=42)\n",
        "df_okiru_downsampled = resample(df_okiru, replace=False, n_samples=min_samples, random_state=42)\n",
        "df_benign_downsampled = resample(df_benign, replace=False, n_samples=min_samples, random_state=42)\n",
        "\n",
        "\n",
        "balanced_df = pd.concat([ df_benign_downsampled, df_ddos_downsampled, df_portscan_downsampled,\n",
        "                         df_cnc_downsampled, df_okiru_downsampled])\n"
      ],
      "metadata": {
        "id": "IzKnnKnfbR3v"
      },
      "execution_count": 13,
      "outputs": []
    },
    {
      "cell_type": "code",
      "source": [
        "merged_category_counts = balanced_df['merged_label'].value_counts()\n",
        "\n",
        "\n",
        "print(\"Counts of merged categories:\")\n",
        "print(merged_category_counts)"
      ],
      "metadata": {
        "colab": {
          "base_uri": "https://localhost:8080/"
        },
        "id": "mrZIywo4bWZD",
        "outputId": "823c56b5-d97d-49aa-f7a0-522f89e84d0c"
      },
      "execution_count": 14,
      "outputs": [
        {
          "output_type": "stream",
          "name": "stdout",
          "text": [
            "Counts of merged categories:\n",
            "merged_label\n",
            "Benign      10000\n",
            "DDoS        10000\n",
            "PortScan    10000\n",
            "C&C         10000\n",
            "Okiru       10000\n",
            "Name: count, dtype: int64\n"
          ]
        }
      ]
    },
    {
      "cell_type": "code",
      "source": [
        "from sklearn.preprocessing import LabelEncoder, StandardScaler\n",
        "\n",
        "import pandas as pd\n",
        "\n",
        "\n",
        "features = balanced_df.drop(columns=['label', 'merged_label'])\n",
        "labels = balanced_df['merged_label']\n",
        "categorical_columns = features.select_dtypes(include=['object']).columns\n",
        "label_encoders = {}\n",
        "\n",
        "\n",
        "for column in categorical_columns:\n",
        "    le = LabelEncoder()\n",
        "    features[column] = le.fit_transform(features[column].astype(str))\n",
        "    label_encoders[column] = le\n",
        "\n",
        "features = features.dropna(axis=1)\n",
        "\n",
        "\n",
        "label_encoder = LabelEncoder()\n",
        "encoded_labels = label_encoder.fit_transform(labels)\n",
        "\n",
        "\n",
        "label_mapping = dict(zip(label_encoder.classes_, label_encoder.transform(label_encoder.classes_)))\n",
        "\n",
        "\n",
        "scaler = StandardScaler()\n",
        "scaled_features = scaler.fit_transform(features)\n",
        "\n",
        "\n",
        "selected_features_df = pd.DataFrame(scaled_features)\n",
        "final_data = pd.concat([selected_features_df, pd.DataFrame(encoded_labels, columns=['encoded_label'])], axis=1)\n",
        "\n",
        "# Results\n",
        "final_data.head(), label_mapping\n"
      ],
      "metadata": {
        "colab": {
          "base_uri": "https://localhost:8080/"
        },
        "id": "r-2otHLwbf2B",
        "outputId": "21675a63-8a86-4022-8f0f-6269aad31960"
      },
      "execution_count": 15,
      "outputs": [
        {
          "output_type": "execute_result",
          "data": {
            "text/plain": [
              "(          0         1         2         3         4         5         6  \\\n",
              " 0  0.407495 -0.093351 -0.777102 -0.616974  0.614198 -1.618821 -0.899799   \n",
              " 1 -0.206111 -0.093441 -1.116237 -0.616974  0.032605  0.530444 -0.899799   \n",
              " 2 -0.596082 -0.093498 -0.078185 -0.616974  0.184787  2.211129 -0.899799   \n",
              " 3 -1.165787 -0.093581  0.338270 -0.616974  0.404230 -1.548689 -0.899799   \n",
              " 4  0.190360 -0.093383  0.136243 -0.616974 -0.118175  1.681850 -0.899799   \n",
              " \n",
              "           7         8         9  ...       12   13   14        15        16  \\\n",
              " 0 -0.063595 -0.150819 -0.514739  ...  0.40332  0.0  0.0 -0.013025  0.020751   \n",
              " 1 -0.063595 -0.150819  1.885803  ...  0.40332  0.0  0.0 -0.013025  0.020751   \n",
              " 2 -0.063595 -0.150819 -0.514739  ...  0.40332  0.0  0.0 -0.013025  0.020751   \n",
              " 3 -0.063595 -0.150819 -0.514739  ...  0.40332  0.0  0.0 -0.013025  0.020751   \n",
              " 4 -0.063595 -0.150819 -0.514739  ...  0.40332  0.0  0.0 -0.013025  0.020751   \n",
              " \n",
              "          17        18        19        20  encoded_label  \n",
              " 0 -0.004491 -0.004500 -0.010609 -0.025426              0  \n",
              " 1 -0.004447 -0.004409 -0.010609 -0.025426              0  \n",
              " 2 -0.004491 -0.004500 -0.010609 -0.025426              0  \n",
              " 3 -0.004491 -0.004500 -0.010609 -0.025426              0  \n",
              " 4 -0.004491 -0.004500 -0.010609 -0.025426              0  \n",
              " \n",
              " [5 rows x 22 columns],\n",
              " {'Benign': 0, 'C&C': 1, 'DDoS': 2, 'Okiru': 3, 'PortScan': 4})"
            ]
          },
          "metadata": {},
          "execution_count": 15
        }
      ]
    },
    {
      "cell_type": "code",
      "source": [
        "final_data.shape"
      ],
      "metadata": {
        "colab": {
          "base_uri": "https://localhost:8080/"
        },
        "id": "l34DBJ5kcTbe",
        "outputId": "71af3bc4-10a5-4e16-ca72-f4de4db452e3"
      },
      "execution_count": 16,
      "outputs": [
        {
          "output_type": "execute_result",
          "data": {
            "text/plain": [
              "(50000, 22)"
            ]
          },
          "metadata": {},
          "execution_count": 16
        }
      ]
    },
    {
      "cell_type": "code",
      "source": [
        "import numpy as np\n",
        "from sklearn.model_selection import train_test_split\n",
        "from sklearn.metrics import (confusion_matrix, classification_report, roc_auc_score,\n",
        "                             roc_curve, precision_recall_curve, auc, precision_score, recall_score, f1_score)\n",
        "import tensorflow as tf\n",
        "from tensorflow.keras import layers, models, regularizers, optimizers\n",
        "from tqdm import tqdm\n",
        "import matplotlib.pyplot as plt\n",
        "\n",
        "print(\"Using GPU:\", tf.config.list_physical_devices('GPU'))\n",
        "\n",
        "X = final_data.drop(columns=['encoded_label'])\n",
        "y = final_data['encoded_label']\n",
        "# Split the dataset into training, validation, and testing sets\n",
        "X_train, X_temp, y_train, y_temp = train_test_split(X, y, test_size=0.4, random_state=42, stratify=y)\n",
        "X_val, X_test, y_val, y_test = train_test_split(X_temp, y_temp, test_size=0.25, random_state=42, stratify=y_temp)\n",
        "\n",
        "# Verify shapes\n",
        "print(f\"Training set: X_train: {X_train.shape}, y_train: {y_train.shape}\")\n",
        "print(f\"Validation set: X_val: {X_val.shape}, y_val: {y_val.shape}\")\n",
        "print(f\"Test set: X_test: {X_test.shape}, y_test: {y_test.shape}\")\n",
        "\n",
        "# Model definition for multi-class classification\n",
        "def create_dnn_model():\n",
        "    model = models.Sequential([\n",
        "        layers.Dense(32, activation='relu', input_shape=(X_train.shape[1],), kernel_regularizer=regularizers.l2(0.01)),\n",
        "        layers.Dropout(0.3),  # Dropout for regularization\n",
        "        layers.Dense(64, activation='relu', kernel_regularizer=regularizers.l2(0.01)),\n",
        "        layers.Dense(len(np.unique(y)), activation='softmax')  # Output layer for the number of classes\n",
        "    ])\n",
        "    return model\n",
        "\n",
        "# Initialize the model\n",
        "model = create_dnn_model()\n",
        "model.summary()  # Print model architecture\n",
        "print(f\"Model parameter count: {model.count_params()}\")\n",
        "\n",
        "# Optimizer and Loss\n",
        "optimizer = tf.keras.optimizers.Adam(learning_rate=0.001)\n",
        "loss_fn = tf.keras.losses.SparseCategoricalCrossentropy()\n",
        "\n",
        "# Create data pipelines with prefetch\n",
        "batch_size = 32\n",
        "train_dataset = tf.data.Dataset.from_tensor_slices((X_train, y_train)).shuffle(1000).batch(batch_size).prefetch(tf.data.AUTOTUNE)\n",
        "val_dataset = tf.data.Dataset.from_tensor_slices((X_val, y_val)).batch(batch_size).prefetch(tf.data.AUTOTUNE)\n",
        "\n",
        "# Training and validation steps using GradientTape\n",
        "@tf.function\n",
        "def train_step(x_batch, y_batch):\n",
        "    with tf.GradientTape() as tape:\n",
        "        logits = model(x_batch, training=True)\n",
        "        loss = loss_fn(y_batch, logits)\n",
        "    grads = tape.gradient(loss, model.trainable_weights)\n",
        "    optimizer.apply_gradients(zip(grads, model.trainable_weights))\n",
        "    acc = tf.keras.metrics.sparse_categorical_accuracy(y_batch, logits)\n",
        "    return loss, tf.reduce_mean(acc)\n",
        "\n",
        "@tf.function\n",
        "def validate_step(x_batch, y_batch):\n",
        "    logits = model(x_batch, training=False)\n",
        "    loss = loss_fn(y_batch, logits)\n",
        "    acc = tf.keras.metrics.sparse_categorical_accuracy(y_batch, logits)\n",
        "    return loss, tf.reduce_mean(acc)\n",
        "\n",
        "# Custom training loop with offloaded validation\n",
        "epochs = 28\n",
        "steps_per_epoch = len(X_train) // batch_size\n",
        "val_steps = len(X_val) // batch_size\n",
        "\n",
        "history = {'loss': [], 'val_loss': [], 'accuracy': [], 'val_accuracy': []}\n",
        "for epoch in range(epochs):\n",
        "    print(f\"\\nEpoch {epoch+1}/{epochs}\")\n",
        "    epoch_loss = []\n",
        "    epoch_acc = []\n",
        "\n",
        "    # Training progress bar\n",
        "    with tqdm(total=steps_per_epoch, desc=\"Training\", unit=\"batch\") as pbar:\n",
        "        for step, (x_batch, y_batch) in enumerate(train_dataset.take(steps_per_epoch)):\n",
        "            loss, acc = train_step(x_batch, y_batch)\n",
        "            epoch_loss.append(loss.numpy())\n",
        "            epoch_acc.append(acc.numpy())\n",
        "            pbar.set_postfix({\"loss\": f\"{np.mean(epoch_loss):.4f}\", \"accuracy\": f\"{np.mean(epoch_acc):.4f}\"})\n",
        "            pbar.update(1)\n",
        "\n",
        "    # Log training metrics\n",
        "    history['loss'].append(np.mean(epoch_loss))\n",
        "    history['accuracy'].append(np.mean(epoch_acc))\n",
        "\n",
        "    # Offload validation\n",
        "    if epoch % 5 == 0 or epoch == epochs - 1:  # Perform validation every 5 epochs\n",
        "        val_loss = []\n",
        "        val_acc = []\n",
        "        with tqdm(total=val_steps, desc=\"Validation\", unit=\"batch\") as pbar:\n",
        "            for step, (x_batch, y_batch) in enumerate(val_dataset.take(val_steps)):\n",
        "                loss, acc = validate_step(x_batch, y_batch)\n",
        "                val_loss.append(loss.numpy())\n",
        "                val_acc.append(acc.numpy())\n",
        "                pbar.set_postfix({\"val_loss\": f\"{np.mean(val_loss):.4f}\", \"val_accuracy\": f\"{np.mean(val_acc):.4f}\"})\n",
        "                pbar.update(1)\n",
        "        # Log validation metrics\n",
        "        history['val_loss'].append(np.mean(val_loss))\n",
        "        history['val_accuracy'].append(np.mean(val_acc))\n",
        "\n",
        "# Evaluation on the test set\n",
        "y_pred_prob = model.predict(X_test)\n",
        "y_pred = np.argmax(y_pred_prob, axis=1)\n",
        "\n",
        "# # Confusion Matrix\n",
        "# conf_matrix = confusion_matrix(y_test, y_pred)\n",
        "# print(\"\\nConfusion Matrix:\\n\", conf_matrix)\n",
        "\n",
        "import seaborn as sns\n",
        "\n",
        "# Confusion Matrix as Heatmap\n",
        "conf_matrix = confusion_matrix(y_test, y_pred)\n",
        "plt.figure(figsize=(10, 8))\n",
        "sns.heatmap(conf_matrix, annot=True, fmt='d', cmap='Blues', xticklabels=[f\"Class {i}\" for i in range(len(np.unique(y)))], yticklabels=[f\"Class {i}\" for i in range(len(np.unique(y)))])\n",
        "plt.title('Confusion Matrix')\n",
        "plt.xlabel('Predicted Label')\n",
        "plt.ylabel('True Label')\n",
        "plt.show()\n",
        "\n",
        "\n",
        "# Classification Report\n",
        "class_report = classification_report(y_test, y_pred, target_names=[f\"Class {i}\" for i in range(len(np.unique(y)))])\n",
        "print(\"\\nClassification Report:\\n\", class_report)\n",
        "\n",
        "# Precision, Recall, and F1 Score\n",
        "precision = precision_score(y_test, y_pred, average='weighted')\n",
        "recall = recall_score(y_test, y_pred, average='weighted')\n",
        "f1 = f1_score(y_test, y_pred, average='weighted')\n",
        "print(f\"\\nPrecision: {precision:.4f}, Recall: {recall:.4f}, F1 Score: {f1:.4f}\")\n",
        "\n",
        "# ROC and AUC Curves for each class\n",
        "plt.figure(figsize=(12, 6))\n",
        "for i in range(len(np.unique(y))):  # For each class\n",
        "    fpr, tpr, _ = roc_curve((y_test == i).astype(int), y_pred_prob[:, i])\n",
        "    plt.plot(fpr, tpr, label=f'Class {i} ROC (AUC = {auc(fpr, tpr):.2f})')\n",
        "plt.plot([0, 1], [0, 1], 'k--')\n",
        "plt.xlabel(\"False Positive Rate\")\n",
        "plt.ylabel(\"True Positive Rate\")\n",
        "plt.title(\"ROC Curve per Class\")\n",
        "plt.legend()\n",
        "plt.show()\n",
        "\n",
        "# Loss and Accuracy Curves\n",
        "plt.figure(figsize=(12, 5))\n",
        "plt.subplot(1, 2, 1)\n",
        "plt.plot(history['loss'], label='Training Loss')\n",
        "if history['val_loss']:\n",
        "    plt.plot(history['val_loss'], label='Validation Loss')\n",
        "plt.xlabel(\"Epochs\")\n",
        "plt.ylabel(\"Loss\")\n",
        "plt.legend()\n",
        "plt.title(\"Loss Curve\")\n",
        "\n",
        "plt.subplot(1, 2, 2)\n",
        "plt.plot(history['accuracy'], label='Training Accuracy')\n",
        "if history['val_accuracy']:\n",
        "    plt.plot(history['val_accuracy'], label='Validation Accuracy')\n",
        "plt.xlabel(\"Epochs\")\n",
        "plt.ylabel(\"Accuracy\")\n",
        "plt.legend()\n",
        "plt.title(\"Accuracy Curve\")\n",
        "plt.show()\n",
        "\n",
        "# Precision-Recall Curve for each class\n",
        "plt.figure(figsize=(12, 6))\n",
        "for i in range(len(np.unique(y))):\n",
        "    precision, recall, _ = precision_recall_curve((y_test == i).astype(int), y_pred_prob[:, i])\n",
        "    plt.plot(recall, precision, label=f\"Class {i} PR Curve (AUC = {auc(recall, precision):.2f})\")\n",
        "plt.xlabel(\"Recall\")\n",
        "plt.ylabel(\"Precision\")\n",
        "plt.title(\"Precision-Recall Curve per Class\")\n",
        "plt.legend()\n",
        "plt.show()\n"
      ],
      "metadata": {
        "colab": {
          "base_uri": "https://localhost:8080/",
          "height": 1000
        },
        "id": "DC1aRtx0wwif",
        "outputId": "2020e6a8-cdf8-43b4-fbe6-0b614fb0a680"
      },
      "execution_count": 20,
      "outputs": [
        {
          "output_type": "stream",
          "name": "stdout",
          "text": [
            "Using GPU: [PhysicalDevice(name='/physical_device:GPU:0', device_type='GPU')]\n",
            "Training set: X_train: (30000, 21), y_train: (30000,)\n",
            "Validation set: X_val: (15000, 21), y_val: (15000,)\n",
            "Test set: X_test: (5000, 21), y_test: (5000,)\n"
          ]
        },
        {
          "output_type": "stream",
          "name": "stderr",
          "text": [
            "/usr/local/lib/python3.10/dist-packages/keras/src/layers/core/dense.py:87: UserWarning: Do not pass an `input_shape`/`input_dim` argument to a layer. When using Sequential models, prefer using an `Input(shape)` object as the first layer in the model instead.\n",
            "  super().__init__(activity_regularizer=activity_regularizer, **kwargs)\n"
          ]
        },
        {
          "output_type": "display_data",
          "data": {
            "text/plain": [
              "\u001b[1mModel: \"sequential_2\"\u001b[0m\n"
            ],
            "text/html": [
              "<pre style=\"white-space:pre;overflow-x:auto;line-height:normal;font-family:Menlo,'DejaVu Sans Mono',consolas,'Courier New',monospace\"><span style=\"font-weight: bold\">Model: \"sequential_2\"</span>\n",
              "</pre>\n"
            ]
          },
          "metadata": {}
        },
        {
          "output_type": "display_data",
          "data": {
            "text/plain": [
              "┏━━━━━━━━━━━━━━━━━━━━━━━━━━━━━━━━━━━━━━┳━━━━━━━━━━━━━━━━━━━━━━━━━━━━━┳━━━━━━━━━━━━━━━━━┓\n",
              "┃\u001b[1m \u001b[0m\u001b[1mLayer (type)                        \u001b[0m\u001b[1m \u001b[0m┃\u001b[1m \u001b[0m\u001b[1mOutput Shape               \u001b[0m\u001b[1m \u001b[0m┃\u001b[1m \u001b[0m\u001b[1m        Param #\u001b[0m\u001b[1m \u001b[0m┃\n",
              "┡━━━━━━━━━━━━━━━━━━━━━━━━━━━━━━━━━━━━━━╇━━━━━━━━━━━━━━━━━━━━━━━━━━━━━╇━━━━━━━━━━━━━━━━━┩\n",
              "│ dense_6 (\u001b[38;5;33mDense\u001b[0m)                      │ (\u001b[38;5;45mNone\u001b[0m, \u001b[38;5;34m32\u001b[0m)                  │             \u001b[38;5;34m704\u001b[0m │\n",
              "├──────────────────────────────────────┼─────────────────────────────┼─────────────────┤\n",
              "│ dropout_2 (\u001b[38;5;33mDropout\u001b[0m)                  │ (\u001b[38;5;45mNone\u001b[0m, \u001b[38;5;34m32\u001b[0m)                  │               \u001b[38;5;34m0\u001b[0m │\n",
              "├──────────────────────────────────────┼─────────────────────────────┼─────────────────┤\n",
              "│ dense_7 (\u001b[38;5;33mDense\u001b[0m)                      │ (\u001b[38;5;45mNone\u001b[0m, \u001b[38;5;34m64\u001b[0m)                  │           \u001b[38;5;34m2,112\u001b[0m │\n",
              "├──────────────────────────────────────┼─────────────────────────────┼─────────────────┤\n",
              "│ dense_8 (\u001b[38;5;33mDense\u001b[0m)                      │ (\u001b[38;5;45mNone\u001b[0m, \u001b[38;5;34m5\u001b[0m)                   │             \u001b[38;5;34m325\u001b[0m │\n",
              "└──────────────────────────────────────┴─────────────────────────────┴─────────────────┘\n"
            ],
            "text/html": [
              "<pre style=\"white-space:pre;overflow-x:auto;line-height:normal;font-family:Menlo,'DejaVu Sans Mono',consolas,'Courier New',monospace\">┏━━━━━━━━━━━━━━━━━━━━━━━━━━━━━━━━━━━━━━┳━━━━━━━━━━━━━━━━━━━━━━━━━━━━━┳━━━━━━━━━━━━━━━━━┓\n",
              "┃<span style=\"font-weight: bold\"> Layer (type)                         </span>┃<span style=\"font-weight: bold\"> Output Shape                </span>┃<span style=\"font-weight: bold\">         Param # </span>┃\n",
              "┡━━━━━━━━━━━━━━━━━━━━━━━━━━━━━━━━━━━━━━╇━━━━━━━━━━━━━━━━━━━━━━━━━━━━━╇━━━━━━━━━━━━━━━━━┩\n",
              "│ dense_6 (<span style=\"color: #0087ff; text-decoration-color: #0087ff\">Dense</span>)                      │ (<span style=\"color: #00d7ff; text-decoration-color: #00d7ff\">None</span>, <span style=\"color: #00af00; text-decoration-color: #00af00\">32</span>)                  │             <span style=\"color: #00af00; text-decoration-color: #00af00\">704</span> │\n",
              "├──────────────────────────────────────┼─────────────────────────────┼─────────────────┤\n",
              "│ dropout_2 (<span style=\"color: #0087ff; text-decoration-color: #0087ff\">Dropout</span>)                  │ (<span style=\"color: #00d7ff; text-decoration-color: #00d7ff\">None</span>, <span style=\"color: #00af00; text-decoration-color: #00af00\">32</span>)                  │               <span style=\"color: #00af00; text-decoration-color: #00af00\">0</span> │\n",
              "├──────────────────────────────────────┼─────────────────────────────┼─────────────────┤\n",
              "│ dense_7 (<span style=\"color: #0087ff; text-decoration-color: #0087ff\">Dense</span>)                      │ (<span style=\"color: #00d7ff; text-decoration-color: #00d7ff\">None</span>, <span style=\"color: #00af00; text-decoration-color: #00af00\">64</span>)                  │           <span style=\"color: #00af00; text-decoration-color: #00af00\">2,112</span> │\n",
              "├──────────────────────────────────────┼─────────────────────────────┼─────────────────┤\n",
              "│ dense_8 (<span style=\"color: #0087ff; text-decoration-color: #0087ff\">Dense</span>)                      │ (<span style=\"color: #00d7ff; text-decoration-color: #00d7ff\">None</span>, <span style=\"color: #00af00; text-decoration-color: #00af00\">5</span>)                   │             <span style=\"color: #00af00; text-decoration-color: #00af00\">325</span> │\n",
              "└──────────────────────────────────────┴─────────────────────────────┴─────────────────┘\n",
              "</pre>\n"
            ]
          },
          "metadata": {}
        },
        {
          "output_type": "display_data",
          "data": {
            "text/plain": [
              "\u001b[1m Total params: \u001b[0m\u001b[38;5;34m3,141\u001b[0m (12.27 KB)\n"
            ],
            "text/html": [
              "<pre style=\"white-space:pre;overflow-x:auto;line-height:normal;font-family:Menlo,'DejaVu Sans Mono',consolas,'Courier New',monospace\"><span style=\"font-weight: bold\"> Total params: </span><span style=\"color: #00af00; text-decoration-color: #00af00\">3,141</span> (12.27 KB)\n",
              "</pre>\n"
            ]
          },
          "metadata": {}
        },
        {
          "output_type": "display_data",
          "data": {
            "text/plain": [
              "\u001b[1m Trainable params: \u001b[0m\u001b[38;5;34m3,141\u001b[0m (12.27 KB)\n"
            ],
            "text/html": [
              "<pre style=\"white-space:pre;overflow-x:auto;line-height:normal;font-family:Menlo,'DejaVu Sans Mono',consolas,'Courier New',monospace\"><span style=\"font-weight: bold\"> Trainable params: </span><span style=\"color: #00af00; text-decoration-color: #00af00\">3,141</span> (12.27 KB)\n",
              "</pre>\n"
            ]
          },
          "metadata": {}
        },
        {
          "output_type": "display_data",
          "data": {
            "text/plain": [
              "\u001b[1m Non-trainable params: \u001b[0m\u001b[38;5;34m0\u001b[0m (0.00 B)\n"
            ],
            "text/html": [
              "<pre style=\"white-space:pre;overflow-x:auto;line-height:normal;font-family:Menlo,'DejaVu Sans Mono',consolas,'Courier New',monospace\"><span style=\"font-weight: bold\"> Non-trainable params: </span><span style=\"color: #00af00; text-decoration-color: #00af00\">0</span> (0.00 B)\n",
              "</pre>\n"
            ]
          },
          "metadata": {}
        },
        {
          "output_type": "stream",
          "name": "stdout",
          "text": [
            "Model parameter count: 3141\n",
            "\n",
            "Epoch 1/28\n"
          ]
        },
        {
          "output_type": "stream",
          "name": "stderr",
          "text": [
            "Training: 100%|██████████| 937/937 [00:10<00:00, 91.21batch/s, loss=0.5995, accuracy=0.7683] \n",
            "Validation: 100%|██████████| 468/468 [00:05<00:00, 91.52batch/s, val_loss=0.2506, val_accuracy=0.9251] \n"
          ]
        },
        {
          "output_type": "stream",
          "name": "stdout",
          "text": [
            "\n",
            "Epoch 2/28\n"
          ]
        },
        {
          "output_type": "stream",
          "name": "stderr",
          "text": [
            "Training: 100%|██████████| 937/937 [00:10<00:00, 91.51batch/s, loss=0.2513, accuracy=0.9261] \n"
          ]
        },
        {
          "output_type": "stream",
          "name": "stdout",
          "text": [
            "\n",
            "Epoch 3/28\n"
          ]
        },
        {
          "output_type": "stream",
          "name": "stderr",
          "text": [
            "Training: 100%|██████████| 937/937 [00:05<00:00, 161.91batch/s, loss=0.1763, accuracy=0.9486]\n"
          ]
        },
        {
          "output_type": "stream",
          "name": "stdout",
          "text": [
            "\n",
            "Epoch 4/28\n"
          ]
        },
        {
          "output_type": "stream",
          "name": "stderr",
          "text": [
            "Training: 100%|██████████| 937/937 [00:10<00:00, 91.57batch/s, loss=0.1457, accuracy=0.9571] \n"
          ]
        },
        {
          "output_type": "stream",
          "name": "stdout",
          "text": [
            "\n",
            "Epoch 5/28\n"
          ]
        },
        {
          "output_type": "stream",
          "name": "stderr",
          "text": [
            "Training: 100%|██████████| 937/937 [00:05<00:00, 168.48batch/s, loss=0.1287, accuracy=0.9644]\n"
          ]
        },
        {
          "output_type": "stream",
          "name": "stdout",
          "text": [
            "\n",
            "Epoch 6/28\n"
          ]
        },
        {
          "output_type": "stream",
          "name": "stderr",
          "text": [
            "Training: 100%|██████████| 937/937 [00:10<00:00, 91.53batch/s, loss=0.1178, accuracy=0.9672] \n",
            "Validation: 100%|██████████| 468/468 [00:02<00:00, 222.16batch/s, val_loss=0.1753, val_accuracy=0.9823]\n"
          ]
        },
        {
          "output_type": "stream",
          "name": "stdout",
          "text": [
            "\n",
            "Epoch 7/28\n"
          ]
        },
        {
          "output_type": "stream",
          "name": "stderr",
          "text": [
            "Training: 100%|██████████| 937/937 [00:05<00:00, 163.08batch/s, loss=0.1071, accuracy=0.9697]\n"
          ]
        },
        {
          "output_type": "stream",
          "name": "stdout",
          "text": [
            "\n",
            "Epoch 8/28\n"
          ]
        },
        {
          "output_type": "stream",
          "name": "stderr",
          "text": [
            "Training: 100%|██████████| 937/937 [00:06<00:00, 139.87batch/s, loss=0.0991, accuracy=0.9710]\n"
          ]
        },
        {
          "output_type": "stream",
          "name": "stdout",
          "text": [
            "\n",
            "Epoch 9/28\n"
          ]
        },
        {
          "output_type": "stream",
          "name": "stderr",
          "text": [
            "Training: 100%|██████████| 937/937 [00:10<00:00, 91.56batch/s, loss=0.0943, accuracy=0.9718] \n"
          ]
        },
        {
          "output_type": "stream",
          "name": "stdout",
          "text": [
            "\n",
            "Epoch 10/28\n"
          ]
        },
        {
          "output_type": "stream",
          "name": "stderr",
          "text": [
            "Training: 100%|██████████| 937/937 [00:05<00:00, 160.04batch/s, loss=0.0858, accuracy=0.9743]\n"
          ]
        },
        {
          "output_type": "stream",
          "name": "stdout",
          "text": [
            "\n",
            "Epoch 11/28\n"
          ]
        },
        {
          "output_type": "stream",
          "name": "stderr",
          "text": [
            "Training: 100%|██████████| 937/937 [00:07<00:00, 133.10batch/s, loss=0.0807, accuracy=0.9765]\n",
            "Validation: 100%|██████████| 468/468 [00:05<00:00, 91.58batch/s, val_loss=0.2111, val_accuracy=0.9846] \n"
          ]
        },
        {
          "output_type": "stream",
          "name": "stdout",
          "text": [
            "\n",
            "Epoch 12/28\n"
          ]
        },
        {
          "output_type": "stream",
          "name": "stderr",
          "text": [
            "Training: 100%|██████████| 937/937 [00:10<00:00, 91.56batch/s, loss=0.0774, accuracy=0.9765] \n"
          ]
        },
        {
          "output_type": "stream",
          "name": "stdout",
          "text": [
            "\n",
            "Epoch 13/28\n"
          ]
        },
        {
          "output_type": "stream",
          "name": "stderr",
          "text": [
            "Training: 100%|██████████| 937/937 [00:06<00:00, 143.68batch/s, loss=0.0755, accuracy=0.9775]\n"
          ]
        },
        {
          "output_type": "stream",
          "name": "stdout",
          "text": [
            "\n",
            "Epoch 14/28\n"
          ]
        },
        {
          "output_type": "stream",
          "name": "stderr",
          "text": [
            "Training: 100%|██████████| 937/937 [00:10<00:00, 91.52batch/s, loss=0.0724, accuracy=0.9784] \n"
          ]
        },
        {
          "output_type": "stream",
          "name": "stdout",
          "text": [
            "\n",
            "Epoch 15/28\n"
          ]
        },
        {
          "output_type": "stream",
          "name": "stderr",
          "text": [
            "Training: 100%|██████████| 937/937 [00:06<00:00, 150.71batch/s, loss=0.0671, accuracy=0.9794]\n"
          ]
        },
        {
          "output_type": "stream",
          "name": "stdout",
          "text": [
            "\n",
            "Epoch 16/28\n"
          ]
        },
        {
          "output_type": "stream",
          "name": "stderr",
          "text": [
            "Training: 100%|██████████| 937/937 [00:06<00:00, 146.73batch/s, loss=0.0659, accuracy=0.9802]\n",
            "Validation: 100%|██████████| 468/468 [00:02<00:00, 183.13batch/s, val_loss=0.2286, val_accuracy=0.9863]\n"
          ]
        },
        {
          "output_type": "stream",
          "name": "stdout",
          "text": [
            "\n",
            "Epoch 17/28\n"
          ]
        },
        {
          "output_type": "stream",
          "name": "stderr",
          "text": [
            "Training: 100%|██████████| 937/937 [00:10<00:00, 91.53batch/s, loss=0.0631, accuracy=0.9806] \n"
          ]
        },
        {
          "output_type": "stream",
          "name": "stdout",
          "text": [
            "\n",
            "Epoch 18/28\n"
          ]
        },
        {
          "output_type": "stream",
          "name": "stderr",
          "text": [
            "Training: 100%|██████████| 937/937 [00:10<00:00, 91.59batch/s, loss=0.0634, accuracy=0.9810] \n"
          ]
        },
        {
          "output_type": "stream",
          "name": "stdout",
          "text": [
            "\n",
            "Epoch 19/28\n"
          ]
        },
        {
          "output_type": "stream",
          "name": "stderr",
          "text": [
            "Training: 100%|██████████| 937/937 [00:10<00:00, 91.54batch/s, loss=0.0601, accuracy=0.9827] \n"
          ]
        },
        {
          "output_type": "stream",
          "name": "stdout",
          "text": [
            "\n",
            "Epoch 20/28\n"
          ]
        },
        {
          "output_type": "stream",
          "name": "stderr",
          "text": [
            "Training: 100%|██████████| 937/937 [00:06<00:00, 137.41batch/s, loss=0.0555, accuracy=0.9844]\n"
          ]
        },
        {
          "output_type": "stream",
          "name": "stdout",
          "text": [
            "\n",
            "Epoch 21/28\n"
          ]
        },
        {
          "output_type": "stream",
          "name": "stderr",
          "text": [
            "Training: 100%|██████████| 937/937 [00:10<00:00, 91.52batch/s, loss=0.0543, accuracy=0.9845] \n",
            "Validation: 100%|██████████| 468/468 [00:02<00:00, 183.66batch/s, val_loss=0.2949, val_accuracy=0.9942]\n"
          ]
        },
        {
          "output_type": "stream",
          "name": "stdout",
          "text": [
            "\n",
            "Epoch 22/28\n"
          ]
        },
        {
          "output_type": "stream",
          "name": "stderr",
          "text": [
            "Training: 100%|██████████| 937/937 [00:07<00:00, 133.41batch/s, loss=0.0528, accuracy=0.9849]\n"
          ]
        },
        {
          "output_type": "stream",
          "name": "stdout",
          "text": [
            "\n",
            "Epoch 23/28\n"
          ]
        },
        {
          "output_type": "stream",
          "name": "stderr",
          "text": [
            "Training: 100%|██████████| 937/937 [00:06<00:00, 136.36batch/s, loss=0.0509, accuracy=0.9854]\n"
          ]
        },
        {
          "output_type": "stream",
          "name": "stdout",
          "text": [
            "\n",
            "Epoch 24/28\n"
          ]
        },
        {
          "output_type": "stream",
          "name": "stderr",
          "text": [
            "Training: 100%|██████████| 937/937 [00:06<00:00, 153.31batch/s, loss=0.0523, accuracy=0.9857]\n"
          ]
        },
        {
          "output_type": "stream",
          "name": "stdout",
          "text": [
            "\n",
            "Epoch 25/28\n"
          ]
        },
        {
          "output_type": "stream",
          "name": "stderr",
          "text": [
            "Training: 100%|██████████| 937/937 [00:10<00:00, 91.52batch/s, loss=0.0460, accuracy=0.9867] \n"
          ]
        },
        {
          "output_type": "stream",
          "name": "stdout",
          "text": [
            "\n",
            "Epoch 26/28\n"
          ]
        },
        {
          "output_type": "stream",
          "name": "stderr",
          "text": [
            "Training: 100%|██████████| 937/937 [00:06<00:00, 138.00batch/s, loss=0.0460, accuracy=0.9875]\n",
            "Validation: 100%|██████████| 468/468 [00:02<00:00, 210.68batch/s, val_loss=0.3145, val_accuracy=0.9965]\n"
          ]
        },
        {
          "output_type": "stream",
          "name": "stdout",
          "text": [
            "\n",
            "Epoch 27/28\n"
          ]
        },
        {
          "output_type": "stream",
          "name": "stderr",
          "text": [
            "Training: 100%|██████████| 937/937 [00:10<00:00, 91.58batch/s, loss=0.0471, accuracy=0.9868] \n"
          ]
        },
        {
          "output_type": "stream",
          "name": "stdout",
          "text": [
            "\n",
            "Epoch 28/28\n"
          ]
        },
        {
          "output_type": "stream",
          "name": "stderr",
          "text": [
            "Training: 100%|██████████| 937/937 [00:06<00:00, 155.45batch/s, loss=0.0444, accuracy=0.9876]\n",
            "Validation: 100%|██████████| 468/468 [00:02<00:00, 183.52batch/s, val_loss=0.3165, val_accuracy=0.9967]"
          ]
        },
        {
          "output_type": "stream",
          "name": "stdout",
          "text": [
            "\u001b[1m 43/157\u001b[0m \u001b[32m━━━━━\u001b[0m\u001b[37m━━━━━━━━━━━━━━━\u001b[0m \u001b[1m0s\u001b[0m 1ms/step   "
          ]
        },
        {
          "output_type": "stream",
          "name": "stderr",
          "text": [
            "\n"
          ]
        },
        {
          "output_type": "stream",
          "name": "stdout",
          "text": [
            "\u001b[1m157/157\u001b[0m \u001b[32m━━━━━━━━━━━━━━━━━━━━\u001b[0m\u001b[37m\u001b[0m \u001b[1m0s\u001b[0m 2ms/step\n"
          ]
        },
        {
          "output_type": "display_data",
          "data": {
            "text/plain": [
              "<Figure size 1000x800 with 2 Axes>"
            ],
            "image/png": "[encoded data removed]"
          },
          "metadata": {}
        },
        {
          "output_type": "stream",
          "name": "stdout",
          "text": [
            "\n",
            "Classification Report:\n",
            "               precision    recall  f1-score   support\n",
            "\n",
            "     Class 0       0.99      1.00      1.00      1000\n",
            "     Class 1       1.00      0.99      0.99      1000\n",
            "     Class 2       1.00      1.00      1.00      1000\n",
            "     Class 3       1.00      1.00      1.00      1000\n",
            "     Class 4       1.00      1.00      1.00      1000\n",
            "\n",
            "    accuracy                           1.00      5000\n",
            "   macro avg       1.00      1.00      1.00      5000\n",
            "weighted avg       1.00      1.00      1.00      5000\n",
            "\n",
            "\n",
            "Precision: 0.9964, Recall: 0.9964, F1 Score: 0.9964\n"
          ]
        },
        {
          "output_type": "display_data",
          "data": {
            "text/plain": [
              "<Figure size 1200x600 with 1 Axes>"
            ],
            "image/png": "[encoded data removed]"
          },
          "metadata": {}
        },
        {
          "output_type": "display_data",
          "data": {
            "text/plain": [
              "<Figure size 1200x500 with 2 Axes>"
            ],
            "image/png": "[encoded data removed]"
          },
          "metadata": {}
        },
        {
          "output_type": "display_data",
          "data": {
            "text/plain": [
              "<Figure size 1200x600 with 1 Axes>"
            ],
            "image/png": "[encoded data removed]"
          },
          "metadata": {}
        }
      ]
    },
    {
      "cell_type": "code",
      "source": [],
      "metadata": {
        "id": "rwJ5htXZUsEs"
      },
      "execution_count": null,
      "outputs": []
    }
  ]
}